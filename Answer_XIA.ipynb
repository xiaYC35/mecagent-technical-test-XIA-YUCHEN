{
 "cells": [
  {
   "cell_type": "code",
   "execution_count": 1,
   "id": "037c7cff",
   "metadata": {},
   "outputs": [
    {
     "name": "stdout",
     "output_type": "stream",
     "text": [
      "Requirement already satisfied: uv in d:\\第一份工作\\mecagent\\.venv\\lib\\site-packages (0.7.14)\n"
     ]
    }
   ],
   "source": [
    "!pip install uv"
   ]
  },
  {
   "cell_type": "code",
   "execution_count": 2,
   "id": "1de6839d",
   "metadata": {},
   "outputs": [
    {
     "name": "stderr",
     "output_type": "stream",
     "text": [
      "\u001b[1m\u001b[33mwarning\u001b[39m\u001b[0m\u001b[1m:\u001b[0m \u001b[1m`VIRTUAL_ENV=d:\\第一份工作\\mecagent\\.venv` does not match the project environment path `.venv` and will be ignored; use `--active` to target the active environment instead\u001b[0m\n",
      "\u001b[2mResolved \u001b[1m76 packages\u001b[0m \u001b[2min 1ms\u001b[0m\u001b[0m\n",
      "\u001b[2mAudited \u001b[1m69 packages\u001b[0m \u001b[2min 0.03ms\u001b[0m\u001b[0m\n"
     ]
    }
   ],
   "source": [
    "!uv sync"
   ]
  },
  {
   "cell_type": "code",
   "execution_count": 3,
   "id": "79914e3c",
   "metadata": {},
   "outputs": [
    {
     "name": "stderr",
     "output_type": "stream",
     "text": [
      "'source' �����ڲ����ⲿ���Ҳ���ǿ����еĳ���\n",
      "���������ļ���\n"
     ]
    }
   ],
   "source": [
    "!source .venv/bin/activate"
   ]
  },
  {
   "cell_type": "markdown",
   "id": "3acd01da",
   "metadata": {},
   "source": [
    "## Load Dataset"
   ]
  },
  {
   "cell_type": "code",
   "execution_count": 4,
   "id": "6ecc151a",
   "metadata": {},
   "outputs": [
    {
     "name": "stderr",
     "output_type": "stream",
     "text": [
      "d:\\第一份工作\\mecagent\\.venv\\Lib\\site-packages\\tqdm\\auto.py:21: TqdmWarning: IProgress not found. Please update jupyter and ipywidgets. See https://ipywidgets.readthedocs.io/en/stable/user_install.html\n",
      "  from .autonotebook import tqdm as notebook_tqdm\n"
     ]
    }
   ],
   "source": [
    "from datasets import load_dataset\n",
    "ds = load_dataset(\"CADCODER/GenCAD-Code\", num_proc=16, split=[\"train\", \"test\"], cache_dir=\"/Volumes/BIG-DATA/HUGGINGFACE_CACHE\")"
   ]
  },
  {
   "cell_type": "code",
   "execution_count": 5,
   "id": "35222c0e",
   "metadata": {},
   "outputs": [],
   "source": [
    "ds_train = load_dataset(\n",
    "    \"CADCODER/GenCAD-Code\",\n",
    "    split=\"train\",\n",
    "    cache_dir=\"/Volumes/BIG-DATA/HUGGINGFACE_CACHE\"\n",
    ")\n",
    "\n",
    "ds_test = load_dataset(\n",
    "    \"CADCODER/GenCAD-Code\",\n",
    "    split=\"test\",\n",
    "    cache_dir=\"/Volumes/BIG-DATA/HUGGINGFACE_CACHE\"\n",
    ")"
   ]
  },
  {
   "cell_type": "code",
   "execution_count": 6,
   "id": "417df85b",
   "metadata": {},
   "outputs": [
    {
     "name": "stdout",
     "output_type": "stream",
     "text": [
      "Length of train set 147289\n",
      "Length of test set 7355\n"
     ]
    }
   ],
   "source": [
    "print(\"Length of train set\", len(ds_train))\n",
    "print(\"Length of test set\", len(ds_test))\n"
   ]
  },
  {
   "cell_type": "markdown",
   "id": "8d71d3b6",
   "metadata": {},
   "source": [
    "As we can see, the train set and test set are very large, but due to the limitation of having only a single GPU and local memory constraints, only a small portion of them will be used in subsequent executions."
   ]
  },
  {
   "cell_type": "code",
   "execution_count": 7,
   "id": "1570bc08",
   "metadata": {},
   "outputs": [
    {
     "name": "stdout",
     "output_type": "stream",
     "text": [
      "\n",
      "=== Example 1 ===\n",
      "image: <PIL.PngImagePlugin.PngImageFile image mode=RGB size=448x448 at 0x219D8E7DF50>\n",
      "\n",
      "deepcad_id: 0000/00006371\n",
      "\n",
      "cadquery: import cadquery as cq\n",
      "# Generating a workplane for sketch 0\n",
      "wp_sketch0 = cq.Workplane(cq.Plane(cq.Vector(-0.015625, -0.0078125, 0.0), cq.Vector(1.0, 0.0, 0.0), cq.Vector(0.0, 0.0, 1.0)))\n",
      "loop0=wp_sketch0.moveTo(0.0, 0.0).threePointArc((0.0007948582418457166, -0.0019189575476279677), (0.0027138157894736844, -0.0027138157894736844)).lineTo(0.021217105263157895, -0.0027138157894736844).threePointArc((0.022787161438489866, -0.00206347722796355), (0.0234375, -0.000493421052631579)).lineTo(0.0234375, 0.018256578947368422).threePointArc((0.02283825686147997, 0.019949990385858287), (0.021217105263157895, 0.020723684210526318)).lineTo(0.0022203947368421052, 0.020723684210526318).threePointArc((0.0005992431385200307, 0.019949990385858287), (0.0, 0.018256578947368422)).lineTo(0.0, 0.0).close()\n",
      "solid0=wp_sketch0.add(loop0).extrude(0.75)\n",
      "solid=solid0\n",
      "\n",
      "\n",
      "token_count: 1292\n",
      "\n",
      "prompt: Generate the CADQuery code needed to create the CAD for the provided image. Just the code, no other words.\n",
      "\n",
      "hundred_subset: False\n",
      "\n",
      "\n",
      "=== Example 2 ===\n",
      "image: <PIL.PngImagePlugin.PngImageFile image mode=RGB size=448x448 at 0x219D8EBA750>\n",
      "\n",
      "deepcad_id: 0000/00001378\n",
      "\n",
      "cadquery: import cadquery as cq\n",
      "# Generating a workplane for sketch 0\n",
      "wp_sketch0 = cq.Workplane(cq.Plane(cq.Vector(0.0, -0.1953125, 0.0), cq.Vector(1.0, 0.0, 0.0), cq.Vector(0.0, 0.0, 1.0)))\n",
      "loop0=wp_sketch0.moveTo(0.17730263157894738, 0.0).lineTo(0.17730263157894738, 0.38281250000000006).lineTo(0.0, 0.38281250000000006).lineTo(0.0, 0.0).close()\n",
      "solid0=wp_sketch0.add(loop0).extrude(0.3046875)\n",
      "solid=solid0\n",
      "# Generating a workplane for sketch 1\n",
      "wp_sketch1 = cq.Workplane(cq.Plane(cq.Vector(0.1796875, -0.109375, 0.0), cq.Vector(1.0, 0.0, 0.0), cq.Vector(0.0, 0.0, 1.0)))\n",
      "loop1=wp_sketch1.moveTo(0.3782072368421052, 0.0).lineTo(0.5703125, 0.1140625).lineTo(0.3782072368421052, 0.22212171052631577).lineTo(0.0, 0.22212171052631577).lineTo(0.0, 0.0).close()\n",
      "solid1=wp_sketch1.add(loop1).extrude(0.1796875)\n",
      "solid=solid.union(solid1)\n",
      "\n",
      "\n",
      "token_count: 1195\n",
      "\n",
      "prompt: Generate the CADQuery code needed to create the CAD for the provided image. Just the code, no other words.\n",
      "\n",
      "hundred_subset: False\n",
      "\n"
     ]
    }
   ],
   "source": [
    "for i in range(2):\n",
    "    print(f\"\\n=== Example {i+1} ===\")\n",
    "    example = ds_train[i]\n",
    "    for key, value in example.items():\n",
    "        print(f\"{key}: {value}\\n\")"
   ]
  },
  {
   "cell_type": "code",
   "execution_count": 8,
   "id": "c2bd7215",
   "metadata": {},
   "outputs": [
    {
     "name": "stdout",
     "output_type": "stream",
     "text": [
      "\n",
      "=== Example 1 ===\n",
      "image: <PIL.PngImagePlugin.PngImageFile image mode=RGB size=448x448 at 0x219D8EC4510>\n",
      "\n",
      "deepcad_id: 0000/00009254\n",
      "\n",
      "cadquery: import cadquery as cq\n",
      "# Generating a workplane for sketch 0\n",
      "wp_sketch0 = cq.Workplane(cq.Plane(cq.Vector(0.0, -0.75, -0.75), cq.Vector(3.749399456654644e-33, 1.0, -6.123233995736766e-17), cq.Vector(1.0, 0.0, 6.123233995736766e-17)))\n",
      "loop0=wp_sketch0.moveTo(1.5, 0.0).lineTo(1.5, 1.5).lineTo(0.0, 1.5).lineTo(0.0, 0.0).close()\n",
      "loop1=wp_sketch0.moveTo(0.7578947368421053, 0.5368421052631579).circle(0.14210526315789473)\n",
      "loop2=wp_sketch0.moveTo(0.7578947368421053, 0.9315789473684211).circle(0.14210526315789473)\n",
      "solid0=wp_sketch0.add(loop0).add(loop1).add(loop2).extrude(0.03125)\n",
      "solid=solid0\n",
      "\n",
      "\n",
      "token_count: 1050\n",
      "\n",
      "prompt: Generate the CADQuery code needed to create the CAD for the provided image. Just the code, no other words.\n",
      "\n",
      "hundred_subset: False\n",
      "\n",
      "\n",
      "=== Example 2 ===\n",
      "image: <PIL.PngImagePlugin.PngImageFile image mode=RGB size=448x448 at 0x219D8EC48D0>\n",
      "\n",
      "deepcad_id: 0000/00006588\n",
      "\n",
      "cadquery: import cadquery as cq\n",
      "# Generating a workplane for sketch 0\n",
      "wp_sketch0 = cq.Workplane(cq.Plane(cq.Vector(-0.5625, 0.0, -0.1875), cq.Vector(1.0, 6.123233995736766e-17, -6.123233995736766e-17), cq.Vector(6.123233995736766e-17, -1.0, 6.123233995736766e-17)))\n",
      "loop0=wp_sketch0.moveTo(0.0, 0.375).threePointArc((-0.1875, 0.1875), (0.0, 0.0)).close()\n",
      "solid0=wp_sketch0.add(loop0).extrude(0.125)\n",
      "solid=solid0\n",
      "# Generating a workplane for sketch 1\n",
      "wp_sketch1 = cq.Workplane(cq.Plane(cq.Vector(0.5625, 0.0, -0.1875), cq.Vector(1.0, 6.123233995736766e-17, -6.123233995736766e-17), cq.Vector(6.123233995736766e-17, -1.0, 6.123233995736766e-17)))\n",
      "loop1=wp_sketch1.moveTo(0.0, 0.0).threePointArc((0.1875, 0.1875), (0.0, 0.375)).lineTo(0.0, 0.0).close()\n",
      "solid1=wp_sketch1.add(loop1).extrude(0.125)\n",
      "solid=solid.union(solid1)\n",
      "# Generating a workplane for sketch 2\n",
      "wp_sketch2 = cq.Workplane(cq.Plane(cq.Vector(-0.5625, 0.0, -0.1875), cq.Vector(1.0, 6.123233995736766e-17, -6.123233995736766e-17), cq.Vector(6.123233995736766e-17, -1.0, 6.123233995736766e-17)))\n",
      "loop2=wp_sketch2.moveTo(1.125, 0.0).threePointArc((0.9355263157894738, 0.18947368421052632), (1.125, 0.37894736842105264)).lineTo(0.0, 0.37894736842105264).threePointArc((0.18947368421052632, 0.18947368421052632), (0.0, 0.0)).close()\n",
      "solid2=wp_sketch2.add(loop2).extrude(0.125)\n",
      "solid=solid.union(solid2)\n",
      "# Generating a workplane for sketch 3\n",
      "wp_sketch3 = cq.Workplane(cq.Plane(cq.Vector(-0.5625, 0.0, -0.1875), cq.Vector(1.0, 6.123233995736766e-17, -6.123233995736766e-17), cq.Vector(6.123233995736766e-17, -1.0, 6.123233995736766e-17)))\n",
      "loop3=wp_sketch3.moveTo(0.0, 0.0).threePointArc((0.1875, 0.1875), (0.0, 0.375)).lineTo(0.0, 0.0).close()\n",
      "solid3=wp_sketch3.add(loop3).extrude(0.125)\n",
      "solid=solid.union(solid3)\n",
      "# Generating a workplane for sketch 4\n",
      "wp_sketch4 = cq.Workplane(cq.Plane(cq.Vector(0.5625, 0.0, -0.1875), cq.Vector(1.0, 6.123233995736766e-17, -6.123233995736766e-17), cq.Vector(6.123233995736766e-17, -1.0, 6.123233995736766e-17)))\n",
      "loop4=wp_sketch4.moveTo(0.0, 0.375).threePointArc((-0.1875, 0.1875), (0.0, 0.0)).close()\n",
      "solid4=wp_sketch4.add(loop4).extrude(0.125)\n",
      "solid=solid.union(solid4)\n",
      "# Generating a workplane for sketch 5\n",
      "wp_sketch5 = cq.Workplane(cq.Plane(cq.Vector(-0.640625, -0.125, 0.0), cq.Vector(1.0, 6.123233995736766e-17, -6.123233995736766e-17), cq.Vector(6.123233995736766e-17, -1.0, 6.123233995736766e-17)))\n",
      "loop5=wp_sketch5.moveTo(0.0734375, 0.0).circle(0.07500000000000001)\n",
      "solid5=wp_sketch5.add(loop5).extrude(-0.25)\n",
      "solid=solid.cut(solid5)\n",
      "# Generating a workplane for sketch 6\n",
      "wp_sketch6 = cq.Workplane(cq.Plane(cq.Vector(0.484375, -0.125, 0.0), cq.Vector(1.0, 6.123233995736766e-17, -6.123233995736766e-17), cq.Vector(6.123233995736766e-17, -1.0, 6.123233995736766e-17)))\n",
      "loop6=wp_sketch6.moveTo(0.07500000000000001, 0.0).circle(0.07500000000000001)\n",
      "solid6=wp_sketch6.add(loop6).extrude(-0.25)\n",
      "solid=solid.cut(solid6)\n",
      "\n",
      "\n",
      "token_count: 2619\n",
      "\n",
      "prompt: Generate the CADQuery code needed to create the CAD for the provided image. Just the code, no other words.\n",
      "\n",
      "hundred_subset: False\n",
      "\n"
     ]
    }
   ],
   "source": [
    "for i in range(2):\n",
    "    print(f\"\\n=== Example {i+1} ===\")\n",
    "    example = ds_test[i]\n",
    "    for key, value in example.items():\n",
    "        print(f\"{key}: {value}\\n\")"
   ]
  },
  {
   "cell_type": "markdown",
   "id": "eedc5a8e",
   "metadata": {},
   "source": [
    "## Baseline model"
   ]
  },
  {
   "cell_type": "markdown",
   "id": "86b1e05d",
   "metadata": {},
   "source": [
    "I initially tried CodeLlama but had to abandon it due to GPU and memory limitations. GPT-2, being a much smaller model, is better suited to my computer’s capabilities, although it has limited performance in understanding generative tasks.\n",
    "\n",
    "My approach is to use CLIP, a model trained to associate images with their matching textual descriptions via contrastive pre-training. During training, CLIP learns to bring the embeddings of an image and its corresponding CadQuery code closer together, while pushing apart embeddings of non-matching pairs.\n",
    "\n",
    "In theory, by leveraging CLIP to extract image features paired with their corresponding CadQuery code, we can learn a joint representation that aligns the visual CAD images with the procedural CadQuery code generation, improving the model’s understanding and generation accuracy.\n",
    "\n"
   ]
  },
  {
   "cell_type": "code",
   "execution_count": 9,
   "id": "084aeea3",
   "metadata": {},
   "outputs": [],
   "source": [
    "from transformers import GPT2Tokenizer, GPT2LMHeadModel, CLIPProcessor, CLIPModel\n",
    "import torch\n",
    "from torch.utils.data import DataLoader\n",
    "from PIL import Image\n",
    "from torch import nn, optim\n",
    "from metrics.valid_syntax_rate import evaluate_syntax_rate_simple\n",
    "from metrics.best_iou import get_iou_best\n",
    "import torch\n",
    "from torch.utils.data import Dataset, DataLoader, Subset\n",
    "import torch.nn as nn\n",
    "import torch.optim as optim\n",
    "import random"
   ]
  },
  {
   "cell_type": "code",
   "execution_count": null,
   "id": "431bba93",
   "metadata": {},
   "outputs": [
    {
     "name": "stderr",
     "output_type": "stream",
     "text": [
      "Using a slow image processor as `use_fast` is unset and a slow processor was saved with this model. `use_fast=True` will be the default behavior in v4.52, even if the model was saved with a slow processor. This will result in minor differences in outputs. You'll still be able to use a slow processor with `use_fast=False`.\n"
     ]
    }
   ],
   "source": [
    "# Initiation of CLIP ang gen-AI model\n",
    "tokenizer = GPT2Tokenizer.from_pretrained(\"gpt2\")\n",
    "gpt_model = GPT2LMHeadModel.from_pretrained(\"gpt2\")\n",
    "clip_model = CLIPModel.from_pretrained(\"openai/clip-vit-base-patch32\")\n",
    "clip_processor = CLIPProcessor.from_pretrained(\"openai/clip-vit-base-patch32\")\n",
    "\n",
    "device = torch.device(\"cuda\" if torch.cuda.is_available() else \"cpu\")\n",
    "gpt_model.to(device)\n",
    "clip_model.to(device)\n",
    "\n",
    "tokenizer.padding_side = \"right\"\n",
    "tokenizer.pad_token = tokenizer.eos_token\n",
    "\n"
   ]
  },
  {
   "cell_type": "code",
   "execution_count": null,
   "id": "0690f4bb",
   "metadata": {},
   "outputs": [],
   "source": [
    "# Add the feature of image captured by CLIPmodel in dataset\n",
    "def preprocess(example):\n",
    "    image = example[\"image\"]\n",
    "    if isinstance(image, dict):  \n",
    "        image = Image.open(image[\"path\"]).convert(\"RGB\")\n",
    "    inputs = clip_processor(images=image, return_tensors=\"pt\")\n",
    "    with torch.no_grad():\n",
    "        image_features = clip_model.get_image_features(**inputs.to(device))\n",
    "    image_features = image_features / image_features.norm(p=2, dim=-1, keepdim=True)  \n",
    "\n",
    "    tokenized_code = tokenizer(\n",
    "        example[\"cadquery\"],\n",
    "        truncation=True,\n",
    "        max_length=1024,\n",
    "        padding=\"max_length\",\n",
    "        return_tensors=\"pt\"\n",
    "    )\n",
    "\n",
    "    return {\n",
    "        \"image_features\": image_features.squeeze(0),  \n",
    "        \"input_ids\": tokenized_code.input_ids.squeeze(0),\n",
    "        \"attention_mask\": tokenized_code.attention_mask.squeeze(0),\n",
    "        \"cadquery\": example[\"cadquery\"],  \n",
    "    }\n"
   ]
  },
  {
   "cell_type": "code",
   "execution_count": 35,
   "id": "e17575ea",
   "metadata": {},
   "outputs": [
    {
     "name": "stdout",
     "output_type": "stream",
     "text": [
      "image_features shape: torch.Size([512])\n",
      "input_ids shape: torch.Size([1024])\n",
      "attention_mask shape: torch.Size([1024])\n",
      "cadquery sample: import cadquery as cq\n",
      "# Generating a workplane for sketch 0\n",
      "wp_sketch0 = cq.Workplane(cq.Plane(cq.Ve\n"
     ]
    }
   ],
   "source": [
    "sample = ds_train[0]\n",
    "result = preprocess(sample)\n",
    "print(\"image_features shape:\", result[\"image_features\"].shape)\n",
    "print(\"input_ids shape:\", result[\"input_ids\"].shape)\n",
    "print(\"attention_mask shape:\", result[\"attention_mask\"].shape)\n",
    "print(\"cadquery sample:\", result[\"cadquery\"][:100])\n",
    "\n"
   ]
  },
  {
   "cell_type": "code",
   "execution_count": null,
   "id": "4aa5b286",
   "metadata": {},
   "outputs": [],
   "source": [
    "class CadQueryDataset(torch.utils.data.Dataset):\n",
    "    def __init__(self, hf_dataset):\n",
    "        self.ds = hf_dataset\n",
    "    def __len__(self):\n",
    "        return len(self.ds)\n",
    "    def __getitem__(self, idx):\n",
    "        return preprocess(self.ds[idx])\n",
    "\n",
    "def sample_dataset(dataset, sample_ratio=0.1, seed=42):\n",
    "    total_size = len(dataset)\n",
    "    sample_size = int(total_size * sample_ratio)\n",
    "    random.seed(seed)\n",
    "    sampled_indices = random.sample(range(total_size), sample_size)\n",
    "    return Subset(dataset, sampled_indices)\n",
    "\n",
    "\n",
    "train_dataset = CadQueryDataset(ds_train)\n",
    "test_dataset = CadQueryDataset(ds_test)\n",
    "\n",
    "# sampling only 0.2% and batch size 2, as a result of limited memory and gpu\n",
    "train_sampled_dataset = sample_dataset(train_dataset, sample_ratio=0.002)\n",
    "test_sampled_dataset = sample_dataset(test_dataset, sample_ratio=0.002)\n",
    "\n",
    "train_loader = DataLoader(train_sampled_dataset, batch_size=2, shuffle=True)\n",
    "test_loader = DataLoader(test_sampled_dataset, batch_size=2, shuffle=False)\n",
    "\n",
    "\n",
    "class CadQueryModel(nn.Module):\n",
    "    def __init__(self, lm_model, img_feat_dim=512):\n",
    "        super().__init__()\n",
    "        self.lm = lm_model\n",
    "        self.img_proj = nn.Linear(img_feat_dim, lm_model.config.n_embd)\n",
    "    def forward(self, image_features, input_ids, attention_mask):\n",
    "        img_embeds = self.img_proj(image_features).unsqueeze(1) \n",
    "        inputs_embeds = self.lm.transformer.wte(input_ids)  \n",
    "        inputs_embeds = torch.cat([img_embeds, inputs_embeds[:, :-1, :]], dim=1)\n",
    "        outputs = self.lm(inputs_embeds=inputs_embeds, attention_mask=attention_mask)\n",
    "        return outputs\n",
    "\n",
    "model = CadQueryModel(gpt_model).to(device)\n",
    "optimizer = optim.AdamW(model.parameters(), lr=5e-5)\n"
   ]
  },
  {
   "cell_type": "code",
   "execution_count": null,
   "id": "6368e310",
   "metadata": {},
   "outputs": [
    {
     "name": "stdout",
     "output_type": "stream",
     "text": [
      "Epoch 1/1\n",
      "Epoch 1 Batch 10/147 Loss: 0.009183360263705254\n",
      "Epoch 1 Batch 20/147 Loss: 0.0052987574599683285\n",
      "Epoch 1 Batch 30/147 Loss: 0.003407438052818179\n",
      "Epoch 1 Batch 40/147 Loss: 0.00040605096728540957\n",
      "Epoch 1 Batch 50/147 Loss: 0.0015972413821145892\n",
      "Epoch 1 Batch 60/147 Loss: 0.0006117736338637769\n",
      "Epoch 1 Batch 70/147 Loss: 0.0023395493626594543\n",
      "Epoch 1 Batch 80/147 Loss: 0.0037013886030763388\n",
      "Epoch 1 Batch 90/147 Loss: 0.0005132909282110631\n",
      "Epoch 1 Batch 100/147 Loss: 0.000938297831453383\n",
      "Epoch 1 Batch 110/147 Loss: 0.0010637459345161915\n",
      "Epoch 1 Batch 120/147 Loss: 0.0003731530159711838\n",
      "Epoch 1 Batch 130/147 Loss: 8.680362952873111e-05\n",
      "Epoch 1 Batch 140/147 Loss: 0.0001587060687597841\n"
     ]
    }
   ],
   "source": [
    "# Trained only 1 epoch as limited time and gpu\n",
    "num_epochs = 1\n",
    "print_every = 10\n",
    "model.train()\n",
    "\n",
    "for epoch in range(num_epochs):\n",
    "    print(f\"Epoch {epoch+1}/{num_epochs}\")\n",
    "    for i, batch in enumerate(train_loader):\n",
    "        image_features = batch[\"image_features\"].to(device)\n",
    "        input_ids = batch[\"input_ids\"].to(device)\n",
    "        attention_mask = batch[\"attention_mask\"].to(device)\n",
    "\n",
    "        outputs = model(image_features, input_ids, attention_mask)\n",
    "        logits = outputs.logits\n",
    "\n",
    "        shift_logits = logits[:, 1:].contiguous()\n",
    "        shift_labels = input_ids[:, :-1].contiguous()\n",
    "\n",
    "        loss_fct = nn.CrossEntropyLoss(ignore_index=tokenizer.pad_token_id)\n",
    "        loss = loss_fct(shift_logits.view(-1, shift_logits.size(-1)), shift_labels.view(-1))\n",
    "\n",
    "        optimizer.zero_grad()\n",
    "        loss.backward()\n",
    "        optimizer.step()\n",
    "\n",
    "        if (i + 1) % print_every == 0:\n",
    "            print(f\"Epoch {epoch+1} Batch {i+1}/{len(train_loader)} Loss: {loss.item()}\")"
   ]
  },
  {
   "cell_type": "code",
   "execution_count": null,
   "id": "9b728450",
   "metadata": {},
   "outputs": [
    {
     "name": "stderr",
     "output_type": "stream",
     "text": [
      "Evaluating: 100%|██████████| 7/7 [02:56<00:00, 25.15s/it]\n"
     ]
    }
   ],
   "source": [
    "from tqdm import tqdm\n",
    "\n",
    "model.eval()\n",
    "generated_codes = {}\n",
    "ground_truth_codes = {}\n",
    "\n",
    "for i, batch in tqdm(enumerate(test_loader), total=len(test_loader), desc=\"Evaluating\"):\n",
    "    image_features = batch[\"image_features\"].to(device)\n",
    "    input_ids = batch[\"input_ids\"].to(device)\n",
    "    attention_mask = batch[\"attention_mask\"].to(device)\n",
    "    gt_codes = batch[\"cadquery\"]\n",
    "\n",
    "    with torch.no_grad():\n",
    "        img_embeds = model.img_proj(image_features).unsqueeze(1)\n",
    "        max_len = 256 # Normally should be 1024 but as limited time and only have trained the model 1 time, GPT2 can not really understand the task and only generate nonsense and endless sentence, I tended to stop it early for shorter sentence\n",
    "        generated = img_embeds\n",
    "\n",
    "        generated_ids = torch.full(\n",
    "            (image_features.size(0), 1),\n",
    "            tokenizer.bos_token_id if tokenizer.bos_token_id is not None else tokenizer.eos_token_id,\n",
    "            dtype=torch.long,\n",
    "            device=device,\n",
    "        )\n",
    "\n",
    "        for _ in range(max_len):\n",
    "            inputs_embeds = torch.cat([img_embeds, model.lm.transformer.wte(generated_ids)[:, :-1, :]], dim=1)\n",
    "            outputs = model.lm(inputs_embeds=inputs_embeds)\n",
    "            next_token_logits = outputs.logits[:, -1, :]\n",
    "            next_token_id = torch.argmax(next_token_logits, dim=-1, keepdim=True)\n",
    "            generated_ids = torch.cat([generated_ids, next_token_id], dim=1)\n",
    "            if all(t.item() == tokenizer.eos_token_id for t in next_token_id):\n",
    "                break\n",
    "\n",
    "    for idx in range(image_features.size(0)):\n",
    "        gen_code = tokenizer.decode(generated_ids[idx].cpu().numpy(), skip_special_tokens=True)\n",
    "        generated_codes[f\"test_{i*image_features.size(0)+idx}\"] = gen_code\n",
    "        ground_truth_codes[f\"test_{i*image_features.size(0)+idx}\"] = gt_codes[idx]\n",
    "        "
   ]
  },
  {
   "cell_type": "code",
   "execution_count": 37,
   "id": "6ca34ab5",
   "metadata": {},
   "outputs": [
    {
     "name": "stdout",
     "output_type": "stream",
     "text": [
      "Valid Syntax Rate on test set: 0.0\n"
     ]
    },
    {
     "ename": "ValueError",
     "evalue": "Error executing script unknown: invalid syntax (<string>, line 1)",
     "output_type": "error",
     "traceback": [
      "\u001b[31m---------------------------------------------------------------------------\u001b[39m",
      "\u001b[31mSyntaxError\u001b[39m                               Traceback (most recent call last)",
      "\u001b[36mFile \u001b[39m\u001b[32md:\\第一份工作\\mecagent\\mecagent-technical-test\\metrics\\best_iou.py:27\u001b[39m, in \u001b[36m_load_solid_from_code\u001b[39m\u001b[34m(code, script_id)\u001b[39m\n\u001b[32m     26\u001b[39m \u001b[38;5;28;01mtry\u001b[39;00m:\n\u001b[32m---> \u001b[39m\u001b[32m27\u001b[39m     exec(cleaned_code, ns)\n\u001b[32m     28\u001b[39m \u001b[38;5;28;01mexcept\u001b[39;00m \u001b[38;5;167;01mException\u001b[39;00m \u001b[38;5;28;01mas\u001b[39;00m e:\n",
      "\u001b[31mSyntaxError\u001b[39m: invalid syntax (<string>, line 1)",
      "\nDuring handling of the above exception, another exception occurred:\n",
      "\u001b[31mValueError\u001b[39m                                Traceback (most recent call last)",
      "\u001b[36mCell\u001b[39m\u001b[36m \u001b[39m\u001b[32mIn[37]\u001b[39m\u001b[32m, line 8\u001b[39m\n\u001b[32m      6\u001b[39m     gt_code = ground_truth_codes[key]\n\u001b[32m      7\u001b[39m     gen_code = generated_codes[key]\n\u001b[32m----> \u001b[39m\u001b[32m8\u001b[39m     iou = \u001b[43mget_iou_best\u001b[49m\u001b[43m(\u001b[49m\u001b[43mgt_code\u001b[49m\u001b[43m,\u001b[49m\u001b[43m \u001b[49m\u001b[43mgen_code\u001b[49m\u001b[43m)\u001b[49m\n\u001b[32m      9\u001b[39m     iou_scores.append(iou)\n\u001b[32m     11\u001b[39m mean_iou = \u001b[38;5;28msum\u001b[39m(iou_scores) / \u001b[38;5;28mlen\u001b[39m(iou_scores) \u001b[38;5;28;01mif\u001b[39;00m iou_scores \u001b[38;5;28;01melse\u001b[39;00m \u001b[32m0.0\u001b[39m\n",
      "\u001b[36mFile \u001b[39m\u001b[32md:\\第一份工作\\mecagent\\mecagent-technical-test\\metrics\\best_iou.py:301\u001b[39m, in \u001b[36mget_iou_best\u001b[39m\u001b[34m(code1, code2)\u001b[39m\n\u001b[32m    299\u001b[39m \u001b[38;5;28;01mdef\u001b[39;00m\u001b[38;5;250m \u001b[39m\u001b[34mget_iou_best\u001b[39m(code1: \u001b[38;5;28mstr\u001b[39m, code2: \u001b[38;5;28mstr\u001b[39m):\n\u001b[32m    300\u001b[39m     solid1 = _load_solid_from_code(code1)\n\u001b[32m--> \u001b[39m\u001b[32m301\u001b[39m     solid2 = \u001b[43m_load_solid_from_code\u001b[49m\u001b[43m(\u001b[49m\u001b[43mcode2\u001b[49m\u001b[43m)\u001b[49m\n\u001b[32m    302\u001b[39m     mesh1 = _normalized_mesh(solid1)\n\u001b[32m    303\u001b[39m     mesh2 = _normalized_mesh(solid2)\n",
      "\u001b[36mFile \u001b[39m\u001b[32md:\\第一份工作\\mecagent\\mecagent-technical-test\\metrics\\best_iou.py:29\u001b[39m, in \u001b[36m_load_solid_from_code\u001b[39m\u001b[34m(code, script_id)\u001b[39m\n\u001b[32m     27\u001b[39m     exec(cleaned_code, ns)\n\u001b[32m     28\u001b[39m \u001b[38;5;28;01mexcept\u001b[39;00m \u001b[38;5;167;01mException\u001b[39;00m \u001b[38;5;28;01mas\u001b[39;00m e:\n\u001b[32m---> \u001b[39m\u001b[32m29\u001b[39m     \u001b[38;5;28;01mraise\u001b[39;00m \u001b[38;5;167;01mValueError\u001b[39;00m(\u001b[33mf\u001b[39m\u001b[33m\"\u001b[39m\u001b[33mError executing script \u001b[39m\u001b[38;5;132;01m{\u001b[39;00mscript_id\u001b[38;5;132;01m}\u001b[39;00m\u001b[33m: \u001b[39m\u001b[38;5;132;01m{\u001b[39;00me\u001b[38;5;132;01m}\u001b[39;00m\u001b[33m\"\u001b[39m)\n\u001b[32m     31\u001b[39m \u001b[38;5;66;03m# Find any CadQuery objects in the namespace\u001b[39;00m\n\u001b[32m     32\u001b[39m cadquery_objects = []\n",
      "\u001b[31mValueError\u001b[39m: Error executing script unknown: invalid syntax (<string>, line 1)"
     ]
    }
   ],
   "source": [
    "vsr = evaluate_syntax_rate_simple(generated_codes)\n",
    "print(f\"Valid Syntax Rate on test set: {vsr}\")\n",
    "\n",
    "iou_scores = []\n",
    "for key in generated_codes.keys():\n",
    "    gt_code = ground_truth_codes[key]\n",
    "    gen_code = generated_codes[key]\n",
    "    iou = get_iou_best(gt_code, gen_code)\n",
    "    iou_scores.append(iou)\n",
    "\n",
    "mean_iou = sum(iou_scores) / len(iou_scores) if iou_scores else 0.0\n",
    "print(f\"Mean IoU on test set: {mean_iou}\")\n"
   ]
  },
  {
   "cell_type": "markdown",
   "id": "d6a66ddd",
   "metadata": {},
   "source": [
    "As we can see here GPT2 is not that capable to understand well the task in such limited samples and resource."
   ]
  },
  {
   "cell_type": "markdown",
   "id": "12dd50e7",
   "metadata": {},
   "source": [
    "## Enhancement\n",
    "The idea is to use a Retrieval-Augmented Generation (RAG) approach: for each training sample, we search for the most similar image features captured by CLIP within the training set. The corresponding CadQuery code of these similar images is then retrieved and appended to the prompt to provide additional context for the generation task in order to improve the performance."
   ]
  },
  {
   "cell_type": "code",
   "execution_count": 46,
   "id": "c67d26fb",
   "metadata": {},
   "outputs": [
    {
     "name": "stderr",
     "output_type": "stream",
     "text": [
      "100%|██████████| 1472/1472 [00:17<00:00, 82.46it/s]\n"
     ]
    }
   ],
   "source": [
    "import torch\n",
    "import torch.nn as nn\n",
    "from torch.utils.data import DataLoader, Subset\n",
    "from PIL import Image\n",
    "import random\n",
    "from tqdm import tqdm\n",
    "\n",
    "\n",
    "total_size = len(ds_train)\n",
    "sub_size = max(1, int(total_size * 0.01))\n",
    "random.seed(42)\n",
    "sub_indices = random.sample(range(total_size), sub_size)\n",
    "\n",
    "\n",
    "Train_subset = Subset(ds_train, sub_indices)\n",
    "\n",
    "image_feature_list = []\n",
    "cadquery_list = []\n",
    "\n",
    "\n",
    "for idx in tqdm(sub_indices):\n",
    "    example = ds_train[idx]\n",
    "    image = example[\"image\"]\n",
    "    if isinstance(image, dict):\n",
    "        image = Image.open(image[\"path\"]).convert(\"RGB\")\n",
    "    inputs = clip_processor(images=image, return_tensors=\"pt\")\n",
    "    with torch.no_grad():\n",
    "        image_features = clip_model.get_image_features(**inputs.to(device))\n",
    "    image_features = image_features / image_features.norm(p=2, dim=-1, keepdim=True)\n",
    "    image_feature_list.append(image_features.squeeze(0).cpu())\n",
    "    cadquery_list.append(example[\"cadquery\"])\n",
    "\n",
    "image_feature_bank = torch.stack(image_feature_list)  \n",
    "cadquery_bank = cadquery_list\n",
    "\n",
    "\n",
    "\n",
    "class CadQuerySubsetDataset(torch.utils.data.Dataset):\n",
    "    def __init__(self, full_dataset, indices):\n",
    "        self.ds = full_dataset\n",
    "        self.indices = indices\n",
    "    def __len__(self):\n",
    "        return len(self.indices)\n",
    "    def __getitem__(self, idx):\n",
    "        real_idx = self.indices[idx]\n",
    "        example = self.ds[real_idx]\n",
    "\n",
    "        image = example[\"image\"]\n",
    "        if isinstance(image, dict):\n",
    "            image = Image.open(image[\"path\"]).convert(\"RGB\")\n",
    "        inputs = clip_processor(images=image, return_tensors=\"pt\")\n",
    "        with torch.no_grad():\n",
    "            image_features = clip_model.get_image_features(**inputs.to(device))\n",
    "        image_features = image_features / image_features.norm(p=2, dim=-1, keepdim=True)\n",
    "\n",
    "        tokenized_code = tokenizer(\n",
    "            example[\"cadquery\"],\n",
    "            truncation=True,\n",
    "            max_length=1024,\n",
    "            padding=\"max_length\",\n",
    "            return_tensors=\"pt\"\n",
    "        )\n",
    "        return {\n",
    "            \"image_features\": image_features.squeeze(0),\n",
    "            \"input_ids\": tokenized_code.input_ids.squeeze(0),\n",
    "            \"attention_mask\": tokenized_code.attention_mask.squeeze(0),\n",
    "            \"index\": real_idx,\n",
    "            \"cadquery\": example[\"cadquery\"],\n",
    "        }\n",
    "\n",
    "\n"
   ]
  },
  {
   "cell_type": "code",
   "execution_count": null,
   "id": "cbbddf2c",
   "metadata": {},
   "outputs": [
    {
     "name": "stdout",
     "output_type": "stream",
     "text": [
      "Epoch 1/1\n",
      "Epoch 1 Batch 10/147 Loss: 0.0001393738784827292\n",
      "Epoch 1 Batch 20/147 Loss: 0.00017399626085534692\n",
      "Epoch 1 Batch 30/147 Loss: 0.00022302991419564933\n",
      "Epoch 1 Batch 40/147 Loss: 0.0014955232618376613\n",
      "Epoch 1 Batch 50/147 Loss: 0.0004334615950938314\n",
      "Epoch 1 Batch 60/147 Loss: 0.00012110720126656815\n",
      "Epoch 1 Batch 70/147 Loss: 0.0002595771220512688\n",
      "Epoch 1 Batch 80/147 Loss: 0.0013687260216102004\n",
      "Epoch 1 Batch 90/147 Loss: 0.00016199050878640264\n",
      "Epoch 1 Batch 100/147 Loss: 0.0008383355452679098\n",
      "Epoch 1 Batch 110/147 Loss: 9.42173574003391e-05\n",
      "Epoch 1 Batch 120/147 Loss: 8.164272003341466e-05\n",
      "Epoch 1 Batch 130/147 Loss: 0.0001025463207042776\n",
      "Epoch 1 Batch 140/147 Loss: 7.57356101530604e-05\n"
     ]
    }
   ],
   "source": [
    "subsub_size = max(1, int(len(Train_subset) * 0.20))\n",
    "random.seed(123)\n",
    "Train_subsub = random.sample(range(len(Train_subset)), sub_size)\n",
    "\n",
    "train_indices_for_loader = [sub_indices[i] for i in Train_subsub]\n",
    "\n",
    "train_dataset = CadQuerySubsetDataset(ds_train, train_indices_for_loader)\n",
    "train_loader = DataLoader(train_dataset, batch_size=2, shuffle=True)\n",
    "\n",
    "model_new = CadQueryModel(gpt_model).to(device)\n",
    "\n",
    "num_epochs = 1\n",
    "print_every = 10\n",
    "topK = 3\n",
    "loss_fct = nn.CrossEntropyLoss(ignore_index=tokenizer.pad_token_id)\n",
    "\n",
    "model_new.train()\n",
    "\n",
    "index_map = {orig_idx: i for i, orig_idx in enumerate(sub_indices)}\n",
    "\n",
    "for epoch in range(num_epochs):\n",
    "    print(f\"Epoch {epoch+1}/{num_epochs}\")\n",
    "    for i, batch in enumerate(train_loader):\n",
    "        image_features = batch[\"image_features\"].to(device)\n",
    "        input_ids = batch[\"input_ids\"].to(device)\n",
    "        attention_mask = batch[\"attention_mask\"].to(device)\n",
    "        indices = batch[\"index\"]  \n",
    "\n",
    "        image_features_norm = image_features / image_features.norm(p=2, dim=-1, keepdim=True)\n",
    "        bank_norm = image_feature_bank.to(device)\n",
    "        bank_norm = bank_norm / bank_norm.norm(p=2, dim=-1, keepdim=True)\n",
    "\n",
    "        sim_matrix = torch.matmul(image_features_norm, bank_norm.T)\n",
    "\n",
    "        for b, orig_idx in enumerate(indices):\n",
    "            local_idx = index_map[orig_idx.item()]\n",
    "            sim_matrix[b, local_idx] = float(\"-inf\")\n",
    "\n",
    "        topk_sim, topk_idx = torch.topk(sim_matrix, k=topK, dim=-1)\n",
    "\n",
    "        augmented_prompts = []\n",
    "        for b in range(len(indices)):\n",
    "            original_prompt = tokenizer.decode(input_ids[b], skip_special_tokens=True)\n",
    "            retrieved_cadqueries = [cadquery_bank[j] for j in topk_idx[b].cpu().tolist()]\n",
    "            retrieved_text = \"\\n\".join(retrieved_cadqueries)\n",
    "            new_prompt = original_prompt + \"\\n### Retrieved similar CAD Queries:\\n\" + retrieved_text\n",
    "            augmented_prompts.append(new_prompt)\n",
    "\n",
    "        tokenized_augmented = tokenizer(\n",
    "            augmented_prompts,\n",
    "            truncation=True,\n",
    "            max_length=1024,\n",
    "            padding=\"max_length\",\n",
    "            return_tensors=\"pt\"\n",
    "        )\n",
    "        input_ids_aug = tokenized_augmented.input_ids.to(device)\n",
    "        attention_mask_aug = tokenized_augmented.attention_mask.to(device)\n",
    "\n",
    "        outputs = model(image_features, input_ids_aug, attention_mask_aug)\n",
    "        logits = outputs.logits\n",
    "\n",
    "        shift_logits = logits[:, 1:].contiguous()\n",
    "        shift_labels = input_ids[:, :-1].contiguous()\n",
    "\n",
    "        loss = loss_fct(shift_logits.view(-1, shift_logits.size(-1)), shift_labels.view(-1))\n",
    "\n",
    "        optimizer.zero_grad()\n",
    "        loss.backward()\n",
    "        optimizer.step()\n",
    "\n",
    "        if (i + 1) % print_every == 0:\n",
    "            print(f\"Epoch {epoch+1} Batch {i+1}/{len(train_loader)} Loss: {loss.item()}\")\n"
   ]
  },
  {
   "cell_type": "code",
   "execution_count": 44,
   "id": "cf509388",
   "metadata": {},
   "outputs": [
    {
     "name": "stderr",
     "output_type": "stream",
     "text": [
      "Evaluating:  14%|█▍        | 1/7 [00:25<02:33, 25.54s/it]"
     ]
    },
    {
     "name": "stdout",
     "output_type": "stream",
     "text": [
      "The generated CADquery : {'test_0': '.The .. .. .. .. .. ....................................................................................................................................................................................................................................................'}\n",
      "The ground truths:  {'test_0': 'import cadquery as cq\\n# Generating a workplane for sketch 0\\nwp_sketch0 = cq.Workplane(cq.Plane(cq.Vector(-0.4453125, 0.0, -0.71875), cq.Vector(1.0, 6.123233995736766e-17, -6.123233995736766e-17), cq.Vector(6.123233995736766e-17, -1.0, 6.123233995736766e-17)))\\nloop0=wp_sketch0.moveTo(0.8927631578947368, 0.0).lineTo(0.8927631578947368, 1.4375).lineTo(0.0, 1.4375).lineTo(0.0, 0.0).close()\\nsolid0=wp_sketch0.add(loop0).extrude(0.0234375)\\nsolid=solid0\\n'}\n",
      "The generated CADquery : {'test_0': '.The .. .. .. .. .. ....................................................................................................................................................................................................................................................', 'test_1': '.The .. .. .. .. .. ....................................................................................................................................................................................................................................................'}\n",
      "The ground truths:  {'test_0': 'import cadquery as cq\\n# Generating a workplane for sketch 0\\nwp_sketch0 = cq.Workplane(cq.Plane(cq.Vector(-0.4453125, 0.0, -0.71875), cq.Vector(1.0, 6.123233995736766e-17, -6.123233995736766e-17), cq.Vector(6.123233995736766e-17, -1.0, 6.123233995736766e-17)))\\nloop0=wp_sketch0.moveTo(0.8927631578947368, 0.0).lineTo(0.8927631578947368, 1.4375).lineTo(0.0, 1.4375).lineTo(0.0, 0.0).close()\\nsolid0=wp_sketch0.add(loop0).extrude(0.0234375)\\nsolid=solid0\\n', 'test_1': 'import cadquery as cq\\n# Generating a workplane for sketch 0\\nwp_sketch0 = cq.Workplane(cq.Plane(cq.Vector(-0.4140625, -0.375, 0.0), cq.Vector(1.0, 0.0, 0.0), cq.Vector(0.0, 0.0, 1.0)))\\nloop0=wp_sketch0.moveTo(0.8203125000000001, 0.0).lineTo(0.8203125000000001, 0.751233552631579).lineTo(0.0, 0.751233552631579).lineTo(0.0, 0.0).close()\\nsolid0=wp_sketch0.add(loop0).extrude(0.046875)\\nsolid=solid0\\n# Generating a workplane for sketch 1\\nwp_sketch1 = cq.Workplane(cq.Plane(cq.Vector(0.4140625, -0.375, 0.0), cq.Vector(1.0, 0.0, 0.0), cq.Vector(0.0, 0.0, 1.0)))\\nloop1=wp_sketch1.moveTo(0.0, 0.0).threePointArc((0.09404764867414023, 0.1307547373597976), (0.2368421052631579, 0.20526315789473684)).lineTo(0.3394736842105263, 0.20526315789473684).lineTo(0.3394736842105263, 0.5447368421052632).lineTo(0.2368421052631579, 0.5447368421052632).threePointArc((0.09404764867414023, 0.6192452626402022), (0.0, 0.75)).lineTo(0.0, 0.0).close()\\nsolid1=wp_sketch1.add(loop1).extrude(0.046875)\\nsolid=solid.union(solid1)\\n# Generating a workplane for sketch 2\\nwp_sketch2 = cq.Workplane(cq.Plane(cq.Vector(-0.75, -0.171875, 0.0), cq.Vector(1.0, 0.0, 0.0), cq.Vector(0.0, 0.0, 1.0)))\\nloop2=wp_sketch2.moveTo(0.09786184210526315, 0.0).threePointArc((0.2433577636108758, -0.07490936350660987), (0.33963815789473684, -0.20723684210526314)).lineTo(0.33963815789473684, 0.546875).threePointArc((0.24335776361087563, 0.4145475214013467), (0.09786184210526315, 0.33963815789473684)).lineTo(0.0, 0.33963815789473684).lineTo(0.0, 0.0).close()\\nsolid2=wp_sketch2.add(loop2).extrude(0.046875)\\nsolid=solid.union(solid2)\\n'}\n"
     ]
    },
    {
     "name": "stderr",
     "output_type": "stream",
     "text": [
      "Evaluating:  29%|██▊       | 2/7 [00:50<02:06, 25.29s/it]"
     ]
    },
    {
     "name": "stdout",
     "output_type": "stream",
     "text": [
      "The generated CADquery : {'test_0': '.The .. .. .. .. .. ....................................................................................................................................................................................................................................................', 'test_1': '.The .. .. .. .. .. ....................................................................................................................................................................................................................................................', 'test_2': '.The .. .. .. .. .. ....................................................................................................................................................................................................................................................'}\n",
      "The ground truths:  {'test_0': 'import cadquery as cq\\n# Generating a workplane for sketch 0\\nwp_sketch0 = cq.Workplane(cq.Plane(cq.Vector(-0.4453125, 0.0, -0.71875), cq.Vector(1.0, 6.123233995736766e-17, -6.123233995736766e-17), cq.Vector(6.123233995736766e-17, -1.0, 6.123233995736766e-17)))\\nloop0=wp_sketch0.moveTo(0.8927631578947368, 0.0).lineTo(0.8927631578947368, 1.4375).lineTo(0.0, 1.4375).lineTo(0.0, 0.0).close()\\nsolid0=wp_sketch0.add(loop0).extrude(0.0234375)\\nsolid=solid0\\n', 'test_1': 'import cadquery as cq\\n# Generating a workplane for sketch 0\\nwp_sketch0 = cq.Workplane(cq.Plane(cq.Vector(-0.4140625, -0.375, 0.0), cq.Vector(1.0, 0.0, 0.0), cq.Vector(0.0, 0.0, 1.0)))\\nloop0=wp_sketch0.moveTo(0.8203125000000001, 0.0).lineTo(0.8203125000000001, 0.751233552631579).lineTo(0.0, 0.751233552631579).lineTo(0.0, 0.0).close()\\nsolid0=wp_sketch0.add(loop0).extrude(0.046875)\\nsolid=solid0\\n# Generating a workplane for sketch 1\\nwp_sketch1 = cq.Workplane(cq.Plane(cq.Vector(0.4140625, -0.375, 0.0), cq.Vector(1.0, 0.0, 0.0), cq.Vector(0.0, 0.0, 1.0)))\\nloop1=wp_sketch1.moveTo(0.0, 0.0).threePointArc((0.09404764867414023, 0.1307547373597976), (0.2368421052631579, 0.20526315789473684)).lineTo(0.3394736842105263, 0.20526315789473684).lineTo(0.3394736842105263, 0.5447368421052632).lineTo(0.2368421052631579, 0.5447368421052632).threePointArc((0.09404764867414023, 0.6192452626402022), (0.0, 0.75)).lineTo(0.0, 0.0).close()\\nsolid1=wp_sketch1.add(loop1).extrude(0.046875)\\nsolid=solid.union(solid1)\\n# Generating a workplane for sketch 2\\nwp_sketch2 = cq.Workplane(cq.Plane(cq.Vector(-0.75, -0.171875, 0.0), cq.Vector(1.0, 0.0, 0.0), cq.Vector(0.0, 0.0, 1.0)))\\nloop2=wp_sketch2.moveTo(0.09786184210526315, 0.0).threePointArc((0.2433577636108758, -0.07490936350660987), (0.33963815789473684, -0.20723684210526314)).lineTo(0.33963815789473684, 0.546875).threePointArc((0.24335776361087563, 0.4145475214013467), (0.09786184210526315, 0.33963815789473684)).lineTo(0.0, 0.33963815789473684).lineTo(0.0, 0.0).close()\\nsolid2=wp_sketch2.add(loop2).extrude(0.046875)\\nsolid=solid.union(solid2)\\n', 'test_2': 'import cadquery as cq\\n# Generating a workplane for sketch 0\\nwp_sketch0 = cq.Workplane(cq.Plane(cq.Vector(-0.125, 0.0, 0.0), cq.Vector(1.0, 6.123233995736766e-17, -6.123233995736766e-17), cq.Vector(6.123233995736766e-17, -1.0, 6.123233995736766e-17)))\\nloop0=wp_sketch0.moveTo(0.12631578947368421, 0.0).circle(0.12631578947368421)\\nsolid0=wp_sketch0.add(loop0).extrude(0.75)\\nsolid=solid0\\n'}\n",
      "The generated CADquery : {'test_0': '.The .. .. .. .. .. ....................................................................................................................................................................................................................................................', 'test_1': '.The .. .. .. .. .. ....................................................................................................................................................................................................................................................', 'test_2': '.The .. .. .. .. .. ....................................................................................................................................................................................................................................................', 'test_3': '.The .. .. .. .. .. ....................................................................................................................................................................................................................................................'}\n",
      "The ground truths:  {'test_0': 'import cadquery as cq\\n# Generating a workplane for sketch 0\\nwp_sketch0 = cq.Workplane(cq.Plane(cq.Vector(-0.4453125, 0.0, -0.71875), cq.Vector(1.0, 6.123233995736766e-17, -6.123233995736766e-17), cq.Vector(6.123233995736766e-17, -1.0, 6.123233995736766e-17)))\\nloop0=wp_sketch0.moveTo(0.8927631578947368, 0.0).lineTo(0.8927631578947368, 1.4375).lineTo(0.0, 1.4375).lineTo(0.0, 0.0).close()\\nsolid0=wp_sketch0.add(loop0).extrude(0.0234375)\\nsolid=solid0\\n', 'test_1': 'import cadquery as cq\\n# Generating a workplane for sketch 0\\nwp_sketch0 = cq.Workplane(cq.Plane(cq.Vector(-0.4140625, -0.375, 0.0), cq.Vector(1.0, 0.0, 0.0), cq.Vector(0.0, 0.0, 1.0)))\\nloop0=wp_sketch0.moveTo(0.8203125000000001, 0.0).lineTo(0.8203125000000001, 0.751233552631579).lineTo(0.0, 0.751233552631579).lineTo(0.0, 0.0).close()\\nsolid0=wp_sketch0.add(loop0).extrude(0.046875)\\nsolid=solid0\\n# Generating a workplane for sketch 1\\nwp_sketch1 = cq.Workplane(cq.Plane(cq.Vector(0.4140625, -0.375, 0.0), cq.Vector(1.0, 0.0, 0.0), cq.Vector(0.0, 0.0, 1.0)))\\nloop1=wp_sketch1.moveTo(0.0, 0.0).threePointArc((0.09404764867414023, 0.1307547373597976), (0.2368421052631579, 0.20526315789473684)).lineTo(0.3394736842105263, 0.20526315789473684).lineTo(0.3394736842105263, 0.5447368421052632).lineTo(0.2368421052631579, 0.5447368421052632).threePointArc((0.09404764867414023, 0.6192452626402022), (0.0, 0.75)).lineTo(0.0, 0.0).close()\\nsolid1=wp_sketch1.add(loop1).extrude(0.046875)\\nsolid=solid.union(solid1)\\n# Generating a workplane for sketch 2\\nwp_sketch2 = cq.Workplane(cq.Plane(cq.Vector(-0.75, -0.171875, 0.0), cq.Vector(1.0, 0.0, 0.0), cq.Vector(0.0, 0.0, 1.0)))\\nloop2=wp_sketch2.moveTo(0.09786184210526315, 0.0).threePointArc((0.2433577636108758, -0.07490936350660987), (0.33963815789473684, -0.20723684210526314)).lineTo(0.33963815789473684, 0.546875).threePointArc((0.24335776361087563, 0.4145475214013467), (0.09786184210526315, 0.33963815789473684)).lineTo(0.0, 0.33963815789473684).lineTo(0.0, 0.0).close()\\nsolid2=wp_sketch2.add(loop2).extrude(0.046875)\\nsolid=solid.union(solid2)\\n', 'test_2': 'import cadquery as cq\\n# Generating a workplane for sketch 0\\nwp_sketch0 = cq.Workplane(cq.Plane(cq.Vector(-0.125, 0.0, 0.0), cq.Vector(1.0, 6.123233995736766e-17, -6.123233995736766e-17), cq.Vector(6.123233995736766e-17, -1.0, 6.123233995736766e-17)))\\nloop0=wp_sketch0.moveTo(0.12631578947368421, 0.0).circle(0.12631578947368421)\\nsolid0=wp_sketch0.add(loop0).extrude(0.75)\\nsolid=solid0\\n', 'test_3': 'import cadquery as cq\\n# Generating a workplane for sketch 0\\nwp_sketch0 = cq.Workplane(cq.Plane(cq.Vector(-0.5625, 0.0, 0.0), cq.Vector(1.0, 0.0, 0.0), cq.Vector(0.0, 0.0, 1.0)))\\nloop0=wp_sketch0.moveTo(0.5684210526315789, 0.0).circle(0.5684210526315789)\\nsolid0=wp_sketch0.add(loop0).extrude(0.375)\\nsolid=solid0\\n# Generating a workplane for sketch 1\\nwp_sketch1 = cq.Workplane(cq.Plane(cq.Vector(-0.28125, 0.0, 0.0), cq.Vector(1.0, 0.0, 0.0), cq.Vector(0.0, 0.0, 1.0)))\\nloop1=wp_sketch1.moveTo(0.28421052631578947, 0.0).circle(0.28421052631578947)\\nsolid1=wp_sketch1.add(loop1).extrude(0.75)\\nsolid=solid.union(solid1)\\n'}\n"
     ]
    },
    {
     "name": "stderr",
     "output_type": "stream",
     "text": [
      "Evaluating:  43%|████▎     | 3/7 [01:15<01:40, 25.05s/it]"
     ]
    },
    {
     "name": "stdout",
     "output_type": "stream",
     "text": [
      "The generated CADquery : {'test_0': '.The .. .. .. .. .. ....................................................................................................................................................................................................................................................', 'test_1': '.The .. .. .. .. .. ....................................................................................................................................................................................................................................................', 'test_2': '.The .. .. .. .. .. ....................................................................................................................................................................................................................................................', 'test_3': '.The .. .. .. .. .. ....................................................................................................................................................................................................................................................', 'test_4': '.The .. .. .. .. .. ....................................................................................................................................................................................................................................................'}\n",
      "The ground truths:  {'test_0': 'import cadquery as cq\\n# Generating a workplane for sketch 0\\nwp_sketch0 = cq.Workplane(cq.Plane(cq.Vector(-0.4453125, 0.0, -0.71875), cq.Vector(1.0, 6.123233995736766e-17, -6.123233995736766e-17), cq.Vector(6.123233995736766e-17, -1.0, 6.123233995736766e-17)))\\nloop0=wp_sketch0.moveTo(0.8927631578947368, 0.0).lineTo(0.8927631578947368, 1.4375).lineTo(0.0, 1.4375).lineTo(0.0, 0.0).close()\\nsolid0=wp_sketch0.add(loop0).extrude(0.0234375)\\nsolid=solid0\\n', 'test_1': 'import cadquery as cq\\n# Generating a workplane for sketch 0\\nwp_sketch0 = cq.Workplane(cq.Plane(cq.Vector(-0.4140625, -0.375, 0.0), cq.Vector(1.0, 0.0, 0.0), cq.Vector(0.0, 0.0, 1.0)))\\nloop0=wp_sketch0.moveTo(0.8203125000000001, 0.0).lineTo(0.8203125000000001, 0.751233552631579).lineTo(0.0, 0.751233552631579).lineTo(0.0, 0.0).close()\\nsolid0=wp_sketch0.add(loop0).extrude(0.046875)\\nsolid=solid0\\n# Generating a workplane for sketch 1\\nwp_sketch1 = cq.Workplane(cq.Plane(cq.Vector(0.4140625, -0.375, 0.0), cq.Vector(1.0, 0.0, 0.0), cq.Vector(0.0, 0.0, 1.0)))\\nloop1=wp_sketch1.moveTo(0.0, 0.0).threePointArc((0.09404764867414023, 0.1307547373597976), (0.2368421052631579, 0.20526315789473684)).lineTo(0.3394736842105263, 0.20526315789473684).lineTo(0.3394736842105263, 0.5447368421052632).lineTo(0.2368421052631579, 0.5447368421052632).threePointArc((0.09404764867414023, 0.6192452626402022), (0.0, 0.75)).lineTo(0.0, 0.0).close()\\nsolid1=wp_sketch1.add(loop1).extrude(0.046875)\\nsolid=solid.union(solid1)\\n# Generating a workplane for sketch 2\\nwp_sketch2 = cq.Workplane(cq.Plane(cq.Vector(-0.75, -0.171875, 0.0), cq.Vector(1.0, 0.0, 0.0), cq.Vector(0.0, 0.0, 1.0)))\\nloop2=wp_sketch2.moveTo(0.09786184210526315, 0.0).threePointArc((0.2433577636108758, -0.07490936350660987), (0.33963815789473684, -0.20723684210526314)).lineTo(0.33963815789473684, 0.546875).threePointArc((0.24335776361087563, 0.4145475214013467), (0.09786184210526315, 0.33963815789473684)).lineTo(0.0, 0.33963815789473684).lineTo(0.0, 0.0).close()\\nsolid2=wp_sketch2.add(loop2).extrude(0.046875)\\nsolid=solid.union(solid2)\\n', 'test_2': 'import cadquery as cq\\n# Generating a workplane for sketch 0\\nwp_sketch0 = cq.Workplane(cq.Plane(cq.Vector(-0.125, 0.0, 0.0), cq.Vector(1.0, 6.123233995736766e-17, -6.123233995736766e-17), cq.Vector(6.123233995736766e-17, -1.0, 6.123233995736766e-17)))\\nloop0=wp_sketch0.moveTo(0.12631578947368421, 0.0).circle(0.12631578947368421)\\nsolid0=wp_sketch0.add(loop0).extrude(0.75)\\nsolid=solid0\\n', 'test_3': 'import cadquery as cq\\n# Generating a workplane for sketch 0\\nwp_sketch0 = cq.Workplane(cq.Plane(cq.Vector(-0.5625, 0.0, 0.0), cq.Vector(1.0, 0.0, 0.0), cq.Vector(0.0, 0.0, 1.0)))\\nloop0=wp_sketch0.moveTo(0.5684210526315789, 0.0).circle(0.5684210526315789)\\nsolid0=wp_sketch0.add(loop0).extrude(0.375)\\nsolid=solid0\\n# Generating a workplane for sketch 1\\nwp_sketch1 = cq.Workplane(cq.Plane(cq.Vector(-0.28125, 0.0, 0.0), cq.Vector(1.0, 0.0, 0.0), cq.Vector(0.0, 0.0, 1.0)))\\nloop1=wp_sketch1.moveTo(0.28421052631578947, 0.0).circle(0.28421052631578947)\\nsolid1=wp_sketch1.add(loop1).extrude(0.75)\\nsolid=solid.union(solid1)\\n', 'test_4': 'import cadquery as cq\\n# Generating a workplane for sketch 0\\nwp_sketch0 = cq.Workplane(cq.Plane(cq.Vector(0.0, 0.0, 0.0), cq.Vector(1.0, 0.0, 0.0), cq.Vector(0.0, 0.0, 1.0)))\\nloop0=wp_sketch0.moveTo(0.0, 0.0).threePointArc((0.375, 0.375), (0.0, 0.75)).lineTo(0.0, 0.718421052631579).threePointArc((0.34342105263157896, 0.375), (0.0, 0.031578947368421054)).lineTo(0.0, 0.0).close()\\nsolid0=wp_sketch0.add(loop0).extrude(0.0234375, both=True)\\nsolid=solid0\\n'}\n",
      "The generated CADquery : {'test_0': '.The .. .. .. .. .. ....................................................................................................................................................................................................................................................', 'test_1': '.The .. .. .. .. .. ....................................................................................................................................................................................................................................................', 'test_2': '.The .. .. .. .. .. ....................................................................................................................................................................................................................................................', 'test_3': '.The .. .. .. .. .. ....................................................................................................................................................................................................................................................', 'test_4': '.The .. .. .. .. .. ....................................................................................................................................................................................................................................................', 'test_5': '.The .. .. .. .. .. ....................................................................................................................................................................................................................................................'}\n",
      "The ground truths:  {'test_0': 'import cadquery as cq\\n# Generating a workplane for sketch 0\\nwp_sketch0 = cq.Workplane(cq.Plane(cq.Vector(-0.4453125, 0.0, -0.71875), cq.Vector(1.0, 6.123233995736766e-17, -6.123233995736766e-17), cq.Vector(6.123233995736766e-17, -1.0, 6.123233995736766e-17)))\\nloop0=wp_sketch0.moveTo(0.8927631578947368, 0.0).lineTo(0.8927631578947368, 1.4375).lineTo(0.0, 1.4375).lineTo(0.0, 0.0).close()\\nsolid0=wp_sketch0.add(loop0).extrude(0.0234375)\\nsolid=solid0\\n', 'test_1': 'import cadquery as cq\\n# Generating a workplane for sketch 0\\nwp_sketch0 = cq.Workplane(cq.Plane(cq.Vector(-0.4140625, -0.375, 0.0), cq.Vector(1.0, 0.0, 0.0), cq.Vector(0.0, 0.0, 1.0)))\\nloop0=wp_sketch0.moveTo(0.8203125000000001, 0.0).lineTo(0.8203125000000001, 0.751233552631579).lineTo(0.0, 0.751233552631579).lineTo(0.0, 0.0).close()\\nsolid0=wp_sketch0.add(loop0).extrude(0.046875)\\nsolid=solid0\\n# Generating a workplane for sketch 1\\nwp_sketch1 = cq.Workplane(cq.Plane(cq.Vector(0.4140625, -0.375, 0.0), cq.Vector(1.0, 0.0, 0.0), cq.Vector(0.0, 0.0, 1.0)))\\nloop1=wp_sketch1.moveTo(0.0, 0.0).threePointArc((0.09404764867414023, 0.1307547373597976), (0.2368421052631579, 0.20526315789473684)).lineTo(0.3394736842105263, 0.20526315789473684).lineTo(0.3394736842105263, 0.5447368421052632).lineTo(0.2368421052631579, 0.5447368421052632).threePointArc((0.09404764867414023, 0.6192452626402022), (0.0, 0.75)).lineTo(0.0, 0.0).close()\\nsolid1=wp_sketch1.add(loop1).extrude(0.046875)\\nsolid=solid.union(solid1)\\n# Generating a workplane for sketch 2\\nwp_sketch2 = cq.Workplane(cq.Plane(cq.Vector(-0.75, -0.171875, 0.0), cq.Vector(1.0, 0.0, 0.0), cq.Vector(0.0, 0.0, 1.0)))\\nloop2=wp_sketch2.moveTo(0.09786184210526315, 0.0).threePointArc((0.2433577636108758, -0.07490936350660987), (0.33963815789473684, -0.20723684210526314)).lineTo(0.33963815789473684, 0.546875).threePointArc((0.24335776361087563, 0.4145475214013467), (0.09786184210526315, 0.33963815789473684)).lineTo(0.0, 0.33963815789473684).lineTo(0.0, 0.0).close()\\nsolid2=wp_sketch2.add(loop2).extrude(0.046875)\\nsolid=solid.union(solid2)\\n', 'test_2': 'import cadquery as cq\\n# Generating a workplane for sketch 0\\nwp_sketch0 = cq.Workplane(cq.Plane(cq.Vector(-0.125, 0.0, 0.0), cq.Vector(1.0, 6.123233995736766e-17, -6.123233995736766e-17), cq.Vector(6.123233995736766e-17, -1.0, 6.123233995736766e-17)))\\nloop0=wp_sketch0.moveTo(0.12631578947368421, 0.0).circle(0.12631578947368421)\\nsolid0=wp_sketch0.add(loop0).extrude(0.75)\\nsolid=solid0\\n', 'test_3': 'import cadquery as cq\\n# Generating a workplane for sketch 0\\nwp_sketch0 = cq.Workplane(cq.Plane(cq.Vector(-0.5625, 0.0, 0.0), cq.Vector(1.0, 0.0, 0.0), cq.Vector(0.0, 0.0, 1.0)))\\nloop0=wp_sketch0.moveTo(0.5684210526315789, 0.0).circle(0.5684210526315789)\\nsolid0=wp_sketch0.add(loop0).extrude(0.375)\\nsolid=solid0\\n# Generating a workplane for sketch 1\\nwp_sketch1 = cq.Workplane(cq.Plane(cq.Vector(-0.28125, 0.0, 0.0), cq.Vector(1.0, 0.0, 0.0), cq.Vector(0.0, 0.0, 1.0)))\\nloop1=wp_sketch1.moveTo(0.28421052631578947, 0.0).circle(0.28421052631578947)\\nsolid1=wp_sketch1.add(loop1).extrude(0.75)\\nsolid=solid.union(solid1)\\n', 'test_4': 'import cadquery as cq\\n# Generating a workplane for sketch 0\\nwp_sketch0 = cq.Workplane(cq.Plane(cq.Vector(0.0, 0.0, 0.0), cq.Vector(1.0, 0.0, 0.0), cq.Vector(0.0, 0.0, 1.0)))\\nloop0=wp_sketch0.moveTo(0.0, 0.0).threePointArc((0.375, 0.375), (0.0, 0.75)).lineTo(0.0, 0.718421052631579).threePointArc((0.34342105263157896, 0.375), (0.0, 0.031578947368421054)).lineTo(0.0, 0.0).close()\\nsolid0=wp_sketch0.add(loop0).extrude(0.0234375, both=True)\\nsolid=solid0\\n', 'test_5': 'import cadquery as cq\\n# Generating a workplane for sketch 0\\nwp_sketch0 = cq.Workplane(cq.Plane(cq.Vector(-0.75, -0.5703125, 0.0), cq.Vector(1.0, 0.0, 0.0), cq.Vector(0.0, 0.0, 1.0)))\\nloop0=wp_sketch0.moveTo(1.5, 0.0).lineTo(1.5, 1.1526315789473685).lineTo(0.0, 1.1526315789473685).lineTo(0.0, 0.0).close()\\nsolid0=wp_sketch0.add(loop0).extrude(0.0078125, both=True)\\nsolid=solid0\\n'}\n"
     ]
    },
    {
     "name": "stderr",
     "output_type": "stream",
     "text": [
      "Evaluating:  57%|█████▋    | 4/7 [01:41<01:16, 25.61s/it]"
     ]
    },
    {
     "name": "stdout",
     "output_type": "stream",
     "text": [
      "The generated CADquery : {'test_0': '.The .. .. .. .. .. ....................................................................................................................................................................................................................................................', 'test_1': '.The .. .. .. .. .. ....................................................................................................................................................................................................................................................', 'test_2': '.The .. .. .. .. .. ....................................................................................................................................................................................................................................................', 'test_3': '.The .. .. .. .. .. ....................................................................................................................................................................................................................................................', 'test_4': '.The .. .. .. .. .. ....................................................................................................................................................................................................................................................', 'test_5': '.The .. .. .. .. .. ....................................................................................................................................................................................................................................................', 'test_6': '.The .. .. .. .. .. ....................................................................................................................................................................................................................................................'}\n",
      "The ground truths:  {'test_0': 'import cadquery as cq\\n# Generating a workplane for sketch 0\\nwp_sketch0 = cq.Workplane(cq.Plane(cq.Vector(-0.4453125, 0.0, -0.71875), cq.Vector(1.0, 6.123233995736766e-17, -6.123233995736766e-17), cq.Vector(6.123233995736766e-17, -1.0, 6.123233995736766e-17)))\\nloop0=wp_sketch0.moveTo(0.8927631578947368, 0.0).lineTo(0.8927631578947368, 1.4375).lineTo(0.0, 1.4375).lineTo(0.0, 0.0).close()\\nsolid0=wp_sketch0.add(loop0).extrude(0.0234375)\\nsolid=solid0\\n', 'test_1': 'import cadquery as cq\\n# Generating a workplane for sketch 0\\nwp_sketch0 = cq.Workplane(cq.Plane(cq.Vector(-0.4140625, -0.375, 0.0), cq.Vector(1.0, 0.0, 0.0), cq.Vector(0.0, 0.0, 1.0)))\\nloop0=wp_sketch0.moveTo(0.8203125000000001, 0.0).lineTo(0.8203125000000001, 0.751233552631579).lineTo(0.0, 0.751233552631579).lineTo(0.0, 0.0).close()\\nsolid0=wp_sketch0.add(loop0).extrude(0.046875)\\nsolid=solid0\\n# Generating a workplane for sketch 1\\nwp_sketch1 = cq.Workplane(cq.Plane(cq.Vector(0.4140625, -0.375, 0.0), cq.Vector(1.0, 0.0, 0.0), cq.Vector(0.0, 0.0, 1.0)))\\nloop1=wp_sketch1.moveTo(0.0, 0.0).threePointArc((0.09404764867414023, 0.1307547373597976), (0.2368421052631579, 0.20526315789473684)).lineTo(0.3394736842105263, 0.20526315789473684).lineTo(0.3394736842105263, 0.5447368421052632).lineTo(0.2368421052631579, 0.5447368421052632).threePointArc((0.09404764867414023, 0.6192452626402022), (0.0, 0.75)).lineTo(0.0, 0.0).close()\\nsolid1=wp_sketch1.add(loop1).extrude(0.046875)\\nsolid=solid.union(solid1)\\n# Generating a workplane for sketch 2\\nwp_sketch2 = cq.Workplane(cq.Plane(cq.Vector(-0.75, -0.171875, 0.0), cq.Vector(1.0, 0.0, 0.0), cq.Vector(0.0, 0.0, 1.0)))\\nloop2=wp_sketch2.moveTo(0.09786184210526315, 0.0).threePointArc((0.2433577636108758, -0.07490936350660987), (0.33963815789473684, -0.20723684210526314)).lineTo(0.33963815789473684, 0.546875).threePointArc((0.24335776361087563, 0.4145475214013467), (0.09786184210526315, 0.33963815789473684)).lineTo(0.0, 0.33963815789473684).lineTo(0.0, 0.0).close()\\nsolid2=wp_sketch2.add(loop2).extrude(0.046875)\\nsolid=solid.union(solid2)\\n', 'test_2': 'import cadquery as cq\\n# Generating a workplane for sketch 0\\nwp_sketch0 = cq.Workplane(cq.Plane(cq.Vector(-0.125, 0.0, 0.0), cq.Vector(1.0, 6.123233995736766e-17, -6.123233995736766e-17), cq.Vector(6.123233995736766e-17, -1.0, 6.123233995736766e-17)))\\nloop0=wp_sketch0.moveTo(0.12631578947368421, 0.0).circle(0.12631578947368421)\\nsolid0=wp_sketch0.add(loop0).extrude(0.75)\\nsolid=solid0\\n', 'test_3': 'import cadquery as cq\\n# Generating a workplane for sketch 0\\nwp_sketch0 = cq.Workplane(cq.Plane(cq.Vector(-0.5625, 0.0, 0.0), cq.Vector(1.0, 0.0, 0.0), cq.Vector(0.0, 0.0, 1.0)))\\nloop0=wp_sketch0.moveTo(0.5684210526315789, 0.0).circle(0.5684210526315789)\\nsolid0=wp_sketch0.add(loop0).extrude(0.375)\\nsolid=solid0\\n# Generating a workplane for sketch 1\\nwp_sketch1 = cq.Workplane(cq.Plane(cq.Vector(-0.28125, 0.0, 0.0), cq.Vector(1.0, 0.0, 0.0), cq.Vector(0.0, 0.0, 1.0)))\\nloop1=wp_sketch1.moveTo(0.28421052631578947, 0.0).circle(0.28421052631578947)\\nsolid1=wp_sketch1.add(loop1).extrude(0.75)\\nsolid=solid.union(solid1)\\n', 'test_4': 'import cadquery as cq\\n# Generating a workplane for sketch 0\\nwp_sketch0 = cq.Workplane(cq.Plane(cq.Vector(0.0, 0.0, 0.0), cq.Vector(1.0, 0.0, 0.0), cq.Vector(0.0, 0.0, 1.0)))\\nloop0=wp_sketch0.moveTo(0.0, 0.0).threePointArc((0.375, 0.375), (0.0, 0.75)).lineTo(0.0, 0.718421052631579).threePointArc((0.34342105263157896, 0.375), (0.0, 0.031578947368421054)).lineTo(0.0, 0.0).close()\\nsolid0=wp_sketch0.add(loop0).extrude(0.0234375, both=True)\\nsolid=solid0\\n', 'test_5': 'import cadquery as cq\\n# Generating a workplane for sketch 0\\nwp_sketch0 = cq.Workplane(cq.Plane(cq.Vector(-0.75, -0.5703125, 0.0), cq.Vector(1.0, 0.0, 0.0), cq.Vector(0.0, 0.0, 1.0)))\\nloop0=wp_sketch0.moveTo(1.5, 0.0).lineTo(1.5, 1.1526315789473685).lineTo(0.0, 1.1526315789473685).lineTo(0.0, 0.0).close()\\nsolid0=wp_sketch0.add(loop0).extrude(0.0078125, both=True)\\nsolid=solid0\\n', 'test_6': 'import cadquery as cq\\n# Generating a workplane for sketch 0\\nwp_sketch0 = cq.Workplane(cq.Plane(cq.Vector(0.0, 0.0, 0.0), cq.Vector(1.0, 6.123233995736766e-17, -6.123233995736766e-17), cq.Vector(6.123233995736766e-17, -1.0, 6.123233995736766e-17)))\\nloop0=wp_sketch0.moveTo(0.75, 0.0).lineTo(0.75, 0.16578947368421054).lineTo(0.6157894736842106, 0.16578947368421054).lineTo(0.6157894736842106, 0.0868421052631579).lineTo(0.5131578947368421, 0.0868421052631579).lineTo(0.5131578947368421, 0.25263157894736843).lineTo(0.3473684210526316, 0.25263157894736843).lineTo(0.3473684210526316, 0.0868421052631579).lineTo(0.25263157894736843, 0.0868421052631579).lineTo(0.25263157894736843, 0.16578947368421054).lineTo(0.0, 0.16578947368421054).lineTo(0.0, 0.0).close()\\nsolid0=wp_sketch0.add(loop0).extrude(0.0859375)\\nsolid=solid0\\n'}\n",
      "The generated CADquery : {'test_0': '.The .. .. .. .. .. ....................................................................................................................................................................................................................................................', 'test_1': '.The .. .. .. .. .. ....................................................................................................................................................................................................................................................', 'test_2': '.The .. .. .. .. .. ....................................................................................................................................................................................................................................................', 'test_3': '.The .. .. .. .. .. ....................................................................................................................................................................................................................................................', 'test_4': '.The .. .. .. .. .. ....................................................................................................................................................................................................................................................', 'test_5': '.The .. .. .. .. .. ....................................................................................................................................................................................................................................................', 'test_6': '.The .. .. .. .. .. ....................................................................................................................................................................................................................................................', 'test_7': '.The .. .. .. .. .. ....................................................................................................................................................................................................................................................'}\n",
      "The ground truths:  {'test_0': 'import cadquery as cq\\n# Generating a workplane for sketch 0\\nwp_sketch0 = cq.Workplane(cq.Plane(cq.Vector(-0.4453125, 0.0, -0.71875), cq.Vector(1.0, 6.123233995736766e-17, -6.123233995736766e-17), cq.Vector(6.123233995736766e-17, -1.0, 6.123233995736766e-17)))\\nloop0=wp_sketch0.moveTo(0.8927631578947368, 0.0).lineTo(0.8927631578947368, 1.4375).lineTo(0.0, 1.4375).lineTo(0.0, 0.0).close()\\nsolid0=wp_sketch0.add(loop0).extrude(0.0234375)\\nsolid=solid0\\n', 'test_1': 'import cadquery as cq\\n# Generating a workplane for sketch 0\\nwp_sketch0 = cq.Workplane(cq.Plane(cq.Vector(-0.4140625, -0.375, 0.0), cq.Vector(1.0, 0.0, 0.0), cq.Vector(0.0, 0.0, 1.0)))\\nloop0=wp_sketch0.moveTo(0.8203125000000001, 0.0).lineTo(0.8203125000000001, 0.751233552631579).lineTo(0.0, 0.751233552631579).lineTo(0.0, 0.0).close()\\nsolid0=wp_sketch0.add(loop0).extrude(0.046875)\\nsolid=solid0\\n# Generating a workplane for sketch 1\\nwp_sketch1 = cq.Workplane(cq.Plane(cq.Vector(0.4140625, -0.375, 0.0), cq.Vector(1.0, 0.0, 0.0), cq.Vector(0.0, 0.0, 1.0)))\\nloop1=wp_sketch1.moveTo(0.0, 0.0).threePointArc((0.09404764867414023, 0.1307547373597976), (0.2368421052631579, 0.20526315789473684)).lineTo(0.3394736842105263, 0.20526315789473684).lineTo(0.3394736842105263, 0.5447368421052632).lineTo(0.2368421052631579, 0.5447368421052632).threePointArc((0.09404764867414023, 0.6192452626402022), (0.0, 0.75)).lineTo(0.0, 0.0).close()\\nsolid1=wp_sketch1.add(loop1).extrude(0.046875)\\nsolid=solid.union(solid1)\\n# Generating a workplane for sketch 2\\nwp_sketch2 = cq.Workplane(cq.Plane(cq.Vector(-0.75, -0.171875, 0.0), cq.Vector(1.0, 0.0, 0.0), cq.Vector(0.0, 0.0, 1.0)))\\nloop2=wp_sketch2.moveTo(0.09786184210526315, 0.0).threePointArc((0.2433577636108758, -0.07490936350660987), (0.33963815789473684, -0.20723684210526314)).lineTo(0.33963815789473684, 0.546875).threePointArc((0.24335776361087563, 0.4145475214013467), (0.09786184210526315, 0.33963815789473684)).lineTo(0.0, 0.33963815789473684).lineTo(0.0, 0.0).close()\\nsolid2=wp_sketch2.add(loop2).extrude(0.046875)\\nsolid=solid.union(solid2)\\n', 'test_2': 'import cadquery as cq\\n# Generating a workplane for sketch 0\\nwp_sketch0 = cq.Workplane(cq.Plane(cq.Vector(-0.125, 0.0, 0.0), cq.Vector(1.0, 6.123233995736766e-17, -6.123233995736766e-17), cq.Vector(6.123233995736766e-17, -1.0, 6.123233995736766e-17)))\\nloop0=wp_sketch0.moveTo(0.12631578947368421, 0.0).circle(0.12631578947368421)\\nsolid0=wp_sketch0.add(loop0).extrude(0.75)\\nsolid=solid0\\n', 'test_3': 'import cadquery as cq\\n# Generating a workplane for sketch 0\\nwp_sketch0 = cq.Workplane(cq.Plane(cq.Vector(-0.5625, 0.0, 0.0), cq.Vector(1.0, 0.0, 0.0), cq.Vector(0.0, 0.0, 1.0)))\\nloop0=wp_sketch0.moveTo(0.5684210526315789, 0.0).circle(0.5684210526315789)\\nsolid0=wp_sketch0.add(loop0).extrude(0.375)\\nsolid=solid0\\n# Generating a workplane for sketch 1\\nwp_sketch1 = cq.Workplane(cq.Plane(cq.Vector(-0.28125, 0.0, 0.0), cq.Vector(1.0, 0.0, 0.0), cq.Vector(0.0, 0.0, 1.0)))\\nloop1=wp_sketch1.moveTo(0.28421052631578947, 0.0).circle(0.28421052631578947)\\nsolid1=wp_sketch1.add(loop1).extrude(0.75)\\nsolid=solid.union(solid1)\\n', 'test_4': 'import cadquery as cq\\n# Generating a workplane for sketch 0\\nwp_sketch0 = cq.Workplane(cq.Plane(cq.Vector(0.0, 0.0, 0.0), cq.Vector(1.0, 0.0, 0.0), cq.Vector(0.0, 0.0, 1.0)))\\nloop0=wp_sketch0.moveTo(0.0, 0.0).threePointArc((0.375, 0.375), (0.0, 0.75)).lineTo(0.0, 0.718421052631579).threePointArc((0.34342105263157896, 0.375), (0.0, 0.031578947368421054)).lineTo(0.0, 0.0).close()\\nsolid0=wp_sketch0.add(loop0).extrude(0.0234375, both=True)\\nsolid=solid0\\n', 'test_5': 'import cadquery as cq\\n# Generating a workplane for sketch 0\\nwp_sketch0 = cq.Workplane(cq.Plane(cq.Vector(-0.75, -0.5703125, 0.0), cq.Vector(1.0, 0.0, 0.0), cq.Vector(0.0, 0.0, 1.0)))\\nloop0=wp_sketch0.moveTo(1.5, 0.0).lineTo(1.5, 1.1526315789473685).lineTo(0.0, 1.1526315789473685).lineTo(0.0, 0.0).close()\\nsolid0=wp_sketch0.add(loop0).extrude(0.0078125, both=True)\\nsolid=solid0\\n', 'test_6': 'import cadquery as cq\\n# Generating a workplane for sketch 0\\nwp_sketch0 = cq.Workplane(cq.Plane(cq.Vector(0.0, 0.0, 0.0), cq.Vector(1.0, 6.123233995736766e-17, -6.123233995736766e-17), cq.Vector(6.123233995736766e-17, -1.0, 6.123233995736766e-17)))\\nloop0=wp_sketch0.moveTo(0.75, 0.0).lineTo(0.75, 0.16578947368421054).lineTo(0.6157894736842106, 0.16578947368421054).lineTo(0.6157894736842106, 0.0868421052631579).lineTo(0.5131578947368421, 0.0868421052631579).lineTo(0.5131578947368421, 0.25263157894736843).lineTo(0.3473684210526316, 0.25263157894736843).lineTo(0.3473684210526316, 0.0868421052631579).lineTo(0.25263157894736843, 0.0868421052631579).lineTo(0.25263157894736843, 0.16578947368421054).lineTo(0.0, 0.16578947368421054).lineTo(0.0, 0.0).close()\\nsolid0=wp_sketch0.add(loop0).extrude(0.0859375)\\nsolid=solid0\\n', 'test_7': 'import cadquery as cq\\n# Generating a workplane for sketch 0\\nwp_sketch0 = cq.Workplane(cq.Plane(cq.Vector(0.0, 0.0, -0.1484375), cq.Vector(1.0, 6.123233995736766e-17, -6.123233995736766e-17), cq.Vector(6.123233995736766e-17, -1.0, 6.123233995736766e-17)))\\nloop0=wp_sketch0.moveTo(0.0, 0.0).threePointArc((0.09503655495405804, -0.11763033526591243), (0.22894736842105265, -0.04736842105263158)).threePointArc((0.2572891574935103, -0.012907420450791712), (0.3, 0.0)).lineTo(0.75, 0.0).lineTo(0.75, 0.3).lineTo(0.0, 0.3).lineTo(0.0, 0.0).close()\\nsolid0=wp_sketch0.add(loop0).extrude(0.1484375, both=True)\\nsolid=solid0\\n'}\n"
     ]
    },
    {
     "name": "stderr",
     "output_type": "stream",
     "text": [
      "Evaluating:  71%|███████▏  | 5/7 [02:10<00:53, 26.87s/it]"
     ]
    },
    {
     "name": "stdout",
     "output_type": "stream",
     "text": [
      "The generated CADquery : {'test_0': '.The .. .. .. .. .. ....................................................................................................................................................................................................................................................', 'test_1': '.The .. .. .. .. .. ....................................................................................................................................................................................................................................................', 'test_2': '.The .. .. .. .. .. ....................................................................................................................................................................................................................................................', 'test_3': '.The .. .. .. .. .. ....................................................................................................................................................................................................................................................', 'test_4': '.The .. .. .. .. .. ....................................................................................................................................................................................................................................................', 'test_5': '.The .. .. .. .. .. ....................................................................................................................................................................................................................................................', 'test_6': '.The .. .. .. .. .. ....................................................................................................................................................................................................................................................', 'test_7': '.The .. .. .. .. .. ....................................................................................................................................................................................................................................................', 'test_8': '.The .. .. .. .. .. ....................................................................................................................................................................................................................................................'}\n",
      "The ground truths:  {'test_0': 'import cadquery as cq\\n# Generating a workplane for sketch 0\\nwp_sketch0 = cq.Workplane(cq.Plane(cq.Vector(-0.4453125, 0.0, -0.71875), cq.Vector(1.0, 6.123233995736766e-17, -6.123233995736766e-17), cq.Vector(6.123233995736766e-17, -1.0, 6.123233995736766e-17)))\\nloop0=wp_sketch0.moveTo(0.8927631578947368, 0.0).lineTo(0.8927631578947368, 1.4375).lineTo(0.0, 1.4375).lineTo(0.0, 0.0).close()\\nsolid0=wp_sketch0.add(loop0).extrude(0.0234375)\\nsolid=solid0\\n', 'test_1': 'import cadquery as cq\\n# Generating a workplane for sketch 0\\nwp_sketch0 = cq.Workplane(cq.Plane(cq.Vector(-0.4140625, -0.375, 0.0), cq.Vector(1.0, 0.0, 0.0), cq.Vector(0.0, 0.0, 1.0)))\\nloop0=wp_sketch0.moveTo(0.8203125000000001, 0.0).lineTo(0.8203125000000001, 0.751233552631579).lineTo(0.0, 0.751233552631579).lineTo(0.0, 0.0).close()\\nsolid0=wp_sketch0.add(loop0).extrude(0.046875)\\nsolid=solid0\\n# Generating a workplane for sketch 1\\nwp_sketch1 = cq.Workplane(cq.Plane(cq.Vector(0.4140625, -0.375, 0.0), cq.Vector(1.0, 0.0, 0.0), cq.Vector(0.0, 0.0, 1.0)))\\nloop1=wp_sketch1.moveTo(0.0, 0.0).threePointArc((0.09404764867414023, 0.1307547373597976), (0.2368421052631579, 0.20526315789473684)).lineTo(0.3394736842105263, 0.20526315789473684).lineTo(0.3394736842105263, 0.5447368421052632).lineTo(0.2368421052631579, 0.5447368421052632).threePointArc((0.09404764867414023, 0.6192452626402022), (0.0, 0.75)).lineTo(0.0, 0.0).close()\\nsolid1=wp_sketch1.add(loop1).extrude(0.046875)\\nsolid=solid.union(solid1)\\n# Generating a workplane for sketch 2\\nwp_sketch2 = cq.Workplane(cq.Plane(cq.Vector(-0.75, -0.171875, 0.0), cq.Vector(1.0, 0.0, 0.0), cq.Vector(0.0, 0.0, 1.0)))\\nloop2=wp_sketch2.moveTo(0.09786184210526315, 0.0).threePointArc((0.2433577636108758, -0.07490936350660987), (0.33963815789473684, -0.20723684210526314)).lineTo(0.33963815789473684, 0.546875).threePointArc((0.24335776361087563, 0.4145475214013467), (0.09786184210526315, 0.33963815789473684)).lineTo(0.0, 0.33963815789473684).lineTo(0.0, 0.0).close()\\nsolid2=wp_sketch2.add(loop2).extrude(0.046875)\\nsolid=solid.union(solid2)\\n', 'test_2': 'import cadquery as cq\\n# Generating a workplane for sketch 0\\nwp_sketch0 = cq.Workplane(cq.Plane(cq.Vector(-0.125, 0.0, 0.0), cq.Vector(1.0, 6.123233995736766e-17, -6.123233995736766e-17), cq.Vector(6.123233995736766e-17, -1.0, 6.123233995736766e-17)))\\nloop0=wp_sketch0.moveTo(0.12631578947368421, 0.0).circle(0.12631578947368421)\\nsolid0=wp_sketch0.add(loop0).extrude(0.75)\\nsolid=solid0\\n', 'test_3': 'import cadquery as cq\\n# Generating a workplane for sketch 0\\nwp_sketch0 = cq.Workplane(cq.Plane(cq.Vector(-0.5625, 0.0, 0.0), cq.Vector(1.0, 0.0, 0.0), cq.Vector(0.0, 0.0, 1.0)))\\nloop0=wp_sketch0.moveTo(0.5684210526315789, 0.0).circle(0.5684210526315789)\\nsolid0=wp_sketch0.add(loop0).extrude(0.375)\\nsolid=solid0\\n# Generating a workplane for sketch 1\\nwp_sketch1 = cq.Workplane(cq.Plane(cq.Vector(-0.28125, 0.0, 0.0), cq.Vector(1.0, 0.0, 0.0), cq.Vector(0.0, 0.0, 1.0)))\\nloop1=wp_sketch1.moveTo(0.28421052631578947, 0.0).circle(0.28421052631578947)\\nsolid1=wp_sketch1.add(loop1).extrude(0.75)\\nsolid=solid.union(solid1)\\n', 'test_4': 'import cadquery as cq\\n# Generating a workplane for sketch 0\\nwp_sketch0 = cq.Workplane(cq.Plane(cq.Vector(0.0, 0.0, 0.0), cq.Vector(1.0, 0.0, 0.0), cq.Vector(0.0, 0.0, 1.0)))\\nloop0=wp_sketch0.moveTo(0.0, 0.0).threePointArc((0.375, 0.375), (0.0, 0.75)).lineTo(0.0, 0.718421052631579).threePointArc((0.34342105263157896, 0.375), (0.0, 0.031578947368421054)).lineTo(0.0, 0.0).close()\\nsolid0=wp_sketch0.add(loop0).extrude(0.0234375, both=True)\\nsolid=solid0\\n', 'test_5': 'import cadquery as cq\\n# Generating a workplane for sketch 0\\nwp_sketch0 = cq.Workplane(cq.Plane(cq.Vector(-0.75, -0.5703125, 0.0), cq.Vector(1.0, 0.0, 0.0), cq.Vector(0.0, 0.0, 1.0)))\\nloop0=wp_sketch0.moveTo(1.5, 0.0).lineTo(1.5, 1.1526315789473685).lineTo(0.0, 1.1526315789473685).lineTo(0.0, 0.0).close()\\nsolid0=wp_sketch0.add(loop0).extrude(0.0078125, both=True)\\nsolid=solid0\\n', 'test_6': 'import cadquery as cq\\n# Generating a workplane for sketch 0\\nwp_sketch0 = cq.Workplane(cq.Plane(cq.Vector(0.0, 0.0, 0.0), cq.Vector(1.0, 6.123233995736766e-17, -6.123233995736766e-17), cq.Vector(6.123233995736766e-17, -1.0, 6.123233995736766e-17)))\\nloop0=wp_sketch0.moveTo(0.75, 0.0).lineTo(0.75, 0.16578947368421054).lineTo(0.6157894736842106, 0.16578947368421054).lineTo(0.6157894736842106, 0.0868421052631579).lineTo(0.5131578947368421, 0.0868421052631579).lineTo(0.5131578947368421, 0.25263157894736843).lineTo(0.3473684210526316, 0.25263157894736843).lineTo(0.3473684210526316, 0.0868421052631579).lineTo(0.25263157894736843, 0.0868421052631579).lineTo(0.25263157894736843, 0.16578947368421054).lineTo(0.0, 0.16578947368421054).lineTo(0.0, 0.0).close()\\nsolid0=wp_sketch0.add(loop0).extrude(0.0859375)\\nsolid=solid0\\n', 'test_7': 'import cadquery as cq\\n# Generating a workplane for sketch 0\\nwp_sketch0 = cq.Workplane(cq.Plane(cq.Vector(0.0, 0.0, -0.1484375), cq.Vector(1.0, 6.123233995736766e-17, -6.123233995736766e-17), cq.Vector(6.123233995736766e-17, -1.0, 6.123233995736766e-17)))\\nloop0=wp_sketch0.moveTo(0.0, 0.0).threePointArc((0.09503655495405804, -0.11763033526591243), (0.22894736842105265, -0.04736842105263158)).threePointArc((0.2572891574935103, -0.012907420450791712), (0.3, 0.0)).lineTo(0.75, 0.0).lineTo(0.75, 0.3).lineTo(0.0, 0.3).lineTo(0.0, 0.0).close()\\nsolid0=wp_sketch0.add(loop0).extrude(0.1484375, both=True)\\nsolid=solid0\\n', 'test_8': 'import cadquery as cq\\n# Generating a workplane for sketch 0\\nwp_sketch0 = cq.Workplane(cq.Plane(cq.Vector(0.0, -0.359375, 0.0), cq.Vector(1.0, 0.0, 0.0), cq.Vector(0.0, 0.0, 1.0)))\\nloop0=wp_sketch0.moveTo(0.6640625, 0.0).lineTo(0.6640625, 0.3564967105263158).lineTo(0.0, 0.3564967105263158).lineTo(0.0, 0.0).close()\\nsolid0=wp_sketch0.add(loop0).extrude(0.75)\\nsolid=solid0\\n'}\n",
      "The generated CADquery : {'test_0': '.The .. .. .. .. .. ....................................................................................................................................................................................................................................................', 'test_1': '.The .. .. .. .. .. ....................................................................................................................................................................................................................................................', 'test_2': '.The .. .. .. .. .. ....................................................................................................................................................................................................................................................', 'test_3': '.The .. .. .. .. .. ....................................................................................................................................................................................................................................................', 'test_4': '.The .. .. .. .. .. ....................................................................................................................................................................................................................................................', 'test_5': '.The .. .. .. .. .. ....................................................................................................................................................................................................................................................', 'test_6': '.The .. .. .. .. .. ....................................................................................................................................................................................................................................................', 'test_7': '.The .. .. .. .. .. ....................................................................................................................................................................................................................................................', 'test_8': '.The .. .. .. .. .. ....................................................................................................................................................................................................................................................', 'test_9': '.The .. .. .. .. .. ....................................................................................................................................................................................................................................................'}\n",
      "The ground truths:  {'test_0': 'import cadquery as cq\\n# Generating a workplane for sketch 0\\nwp_sketch0 = cq.Workplane(cq.Plane(cq.Vector(-0.4453125, 0.0, -0.71875), cq.Vector(1.0, 6.123233995736766e-17, -6.123233995736766e-17), cq.Vector(6.123233995736766e-17, -1.0, 6.123233995736766e-17)))\\nloop0=wp_sketch0.moveTo(0.8927631578947368, 0.0).lineTo(0.8927631578947368, 1.4375).lineTo(0.0, 1.4375).lineTo(0.0, 0.0).close()\\nsolid0=wp_sketch0.add(loop0).extrude(0.0234375)\\nsolid=solid0\\n', 'test_1': 'import cadquery as cq\\n# Generating a workplane for sketch 0\\nwp_sketch0 = cq.Workplane(cq.Plane(cq.Vector(-0.4140625, -0.375, 0.0), cq.Vector(1.0, 0.0, 0.0), cq.Vector(0.0, 0.0, 1.0)))\\nloop0=wp_sketch0.moveTo(0.8203125000000001, 0.0).lineTo(0.8203125000000001, 0.751233552631579).lineTo(0.0, 0.751233552631579).lineTo(0.0, 0.0).close()\\nsolid0=wp_sketch0.add(loop0).extrude(0.046875)\\nsolid=solid0\\n# Generating a workplane for sketch 1\\nwp_sketch1 = cq.Workplane(cq.Plane(cq.Vector(0.4140625, -0.375, 0.0), cq.Vector(1.0, 0.0, 0.0), cq.Vector(0.0, 0.0, 1.0)))\\nloop1=wp_sketch1.moveTo(0.0, 0.0).threePointArc((0.09404764867414023, 0.1307547373597976), (0.2368421052631579, 0.20526315789473684)).lineTo(0.3394736842105263, 0.20526315789473684).lineTo(0.3394736842105263, 0.5447368421052632).lineTo(0.2368421052631579, 0.5447368421052632).threePointArc((0.09404764867414023, 0.6192452626402022), (0.0, 0.75)).lineTo(0.0, 0.0).close()\\nsolid1=wp_sketch1.add(loop1).extrude(0.046875)\\nsolid=solid.union(solid1)\\n# Generating a workplane for sketch 2\\nwp_sketch2 = cq.Workplane(cq.Plane(cq.Vector(-0.75, -0.171875, 0.0), cq.Vector(1.0, 0.0, 0.0), cq.Vector(0.0, 0.0, 1.0)))\\nloop2=wp_sketch2.moveTo(0.09786184210526315, 0.0).threePointArc((0.2433577636108758, -0.07490936350660987), (0.33963815789473684, -0.20723684210526314)).lineTo(0.33963815789473684, 0.546875).threePointArc((0.24335776361087563, 0.4145475214013467), (0.09786184210526315, 0.33963815789473684)).lineTo(0.0, 0.33963815789473684).lineTo(0.0, 0.0).close()\\nsolid2=wp_sketch2.add(loop2).extrude(0.046875)\\nsolid=solid.union(solid2)\\n', 'test_2': 'import cadquery as cq\\n# Generating a workplane for sketch 0\\nwp_sketch0 = cq.Workplane(cq.Plane(cq.Vector(-0.125, 0.0, 0.0), cq.Vector(1.0, 6.123233995736766e-17, -6.123233995736766e-17), cq.Vector(6.123233995736766e-17, -1.0, 6.123233995736766e-17)))\\nloop0=wp_sketch0.moveTo(0.12631578947368421, 0.0).circle(0.12631578947368421)\\nsolid0=wp_sketch0.add(loop0).extrude(0.75)\\nsolid=solid0\\n', 'test_3': 'import cadquery as cq\\n# Generating a workplane for sketch 0\\nwp_sketch0 = cq.Workplane(cq.Plane(cq.Vector(-0.5625, 0.0, 0.0), cq.Vector(1.0, 0.0, 0.0), cq.Vector(0.0, 0.0, 1.0)))\\nloop0=wp_sketch0.moveTo(0.5684210526315789, 0.0).circle(0.5684210526315789)\\nsolid0=wp_sketch0.add(loop0).extrude(0.375)\\nsolid=solid0\\n# Generating a workplane for sketch 1\\nwp_sketch1 = cq.Workplane(cq.Plane(cq.Vector(-0.28125, 0.0, 0.0), cq.Vector(1.0, 0.0, 0.0), cq.Vector(0.0, 0.0, 1.0)))\\nloop1=wp_sketch1.moveTo(0.28421052631578947, 0.0).circle(0.28421052631578947)\\nsolid1=wp_sketch1.add(loop1).extrude(0.75)\\nsolid=solid.union(solid1)\\n', 'test_4': 'import cadquery as cq\\n# Generating a workplane for sketch 0\\nwp_sketch0 = cq.Workplane(cq.Plane(cq.Vector(0.0, 0.0, 0.0), cq.Vector(1.0, 0.0, 0.0), cq.Vector(0.0, 0.0, 1.0)))\\nloop0=wp_sketch0.moveTo(0.0, 0.0).threePointArc((0.375, 0.375), (0.0, 0.75)).lineTo(0.0, 0.718421052631579).threePointArc((0.34342105263157896, 0.375), (0.0, 0.031578947368421054)).lineTo(0.0, 0.0).close()\\nsolid0=wp_sketch0.add(loop0).extrude(0.0234375, both=True)\\nsolid=solid0\\n', 'test_5': 'import cadquery as cq\\n# Generating a workplane for sketch 0\\nwp_sketch0 = cq.Workplane(cq.Plane(cq.Vector(-0.75, -0.5703125, 0.0), cq.Vector(1.0, 0.0, 0.0), cq.Vector(0.0, 0.0, 1.0)))\\nloop0=wp_sketch0.moveTo(1.5, 0.0).lineTo(1.5, 1.1526315789473685).lineTo(0.0, 1.1526315789473685).lineTo(0.0, 0.0).close()\\nsolid0=wp_sketch0.add(loop0).extrude(0.0078125, both=True)\\nsolid=solid0\\n', 'test_6': 'import cadquery as cq\\n# Generating a workplane for sketch 0\\nwp_sketch0 = cq.Workplane(cq.Plane(cq.Vector(0.0, 0.0, 0.0), cq.Vector(1.0, 6.123233995736766e-17, -6.123233995736766e-17), cq.Vector(6.123233995736766e-17, -1.0, 6.123233995736766e-17)))\\nloop0=wp_sketch0.moveTo(0.75, 0.0).lineTo(0.75, 0.16578947368421054).lineTo(0.6157894736842106, 0.16578947368421054).lineTo(0.6157894736842106, 0.0868421052631579).lineTo(0.5131578947368421, 0.0868421052631579).lineTo(0.5131578947368421, 0.25263157894736843).lineTo(0.3473684210526316, 0.25263157894736843).lineTo(0.3473684210526316, 0.0868421052631579).lineTo(0.25263157894736843, 0.0868421052631579).lineTo(0.25263157894736843, 0.16578947368421054).lineTo(0.0, 0.16578947368421054).lineTo(0.0, 0.0).close()\\nsolid0=wp_sketch0.add(loop0).extrude(0.0859375)\\nsolid=solid0\\n', 'test_7': 'import cadquery as cq\\n# Generating a workplane for sketch 0\\nwp_sketch0 = cq.Workplane(cq.Plane(cq.Vector(0.0, 0.0, -0.1484375), cq.Vector(1.0, 6.123233995736766e-17, -6.123233995736766e-17), cq.Vector(6.123233995736766e-17, -1.0, 6.123233995736766e-17)))\\nloop0=wp_sketch0.moveTo(0.0, 0.0).threePointArc((0.09503655495405804, -0.11763033526591243), (0.22894736842105265, -0.04736842105263158)).threePointArc((0.2572891574935103, -0.012907420450791712), (0.3, 0.0)).lineTo(0.75, 0.0).lineTo(0.75, 0.3).lineTo(0.0, 0.3).lineTo(0.0, 0.0).close()\\nsolid0=wp_sketch0.add(loop0).extrude(0.1484375, both=True)\\nsolid=solid0\\n', 'test_8': 'import cadquery as cq\\n# Generating a workplane for sketch 0\\nwp_sketch0 = cq.Workplane(cq.Plane(cq.Vector(0.0, -0.359375, 0.0), cq.Vector(1.0, 0.0, 0.0), cq.Vector(0.0, 0.0, 1.0)))\\nloop0=wp_sketch0.moveTo(0.6640625, 0.0).lineTo(0.6640625, 0.3564967105263158).lineTo(0.0, 0.3564967105263158).lineTo(0.0, 0.0).close()\\nsolid0=wp_sketch0.add(loop0).extrude(0.75)\\nsolid=solid0\\n', 'test_9': 'import cadquery as cq\\n# Generating a workplane for sketch 0\\nwp_sketch0 = cq.Workplane(cq.Plane(cq.Vector(-0.3671875, 0.4609375, 0.0), cq.Vector(1.0, 0.0, 0.0), cq.Vector(0.0, 0.0, 1.0)))\\nloop0=wp_sketch0.moveTo(0.5234375, 0.0).lineTo(0.5234375, 0.18182565789473684).lineTo(0.0, 0.18182565789473684).lineTo(0.0, 0.0).close()\\nloop1=wp_sketch0.moveTo(0.13223684210526315, 0.09366776315789474).circle(0.03856907894736842)\\nsolid0=wp_sketch0.add(loop0).add(loop1).extrude(0.5234375)\\nsolid=solid0\\n# Generating a workplane for sketch 1\\nwp_sketch1 = cq.Workplane(cq.Plane(cq.Vector(-0.2421875, 0.6484375, 0.1796875), cq.Vector(-1.0, 6.123233995736766e-17, -6.123233995736766e-17), cq.Vector(6.123233995736766e-17, 1.0, 6.123233995736766e-17)))\\nloop2=wp_sketch1.moveTo(0.1332236842105263, 0.0).lineTo(0.1332236842105263, 0.15625).lineTo(0.0, 0.15625).lineTo(0.0, 0.0).close()\\nsolid1=wp_sketch1.add(loop2).extrude(0.1015625)\\nsolid=solid.union(solid1)\\n# Generating a workplane for sketch 2\\nwp_sketch2 = cq.Workplane(cq.Plane(cq.Vector(-0.0390625, 0.4609375, 0.2578125), cq.Vector(1.0, 6.123233995736766e-17, -6.123233995736766e-17), cq.Vector(6.123233995736766e-17, -1.0, 6.123233995736766e-17)))\\nloop3=wp_sketch2.moveTo(0.05921052631578947, 0.0).circle(0.05921052631578947)\\nsolid2=wp_sketch2.add(loop3).extrude(-0.6484375)\\nsolid=solid.cut(solid2)\\n'}\n"
     ]
    },
    {
     "name": "stderr",
     "output_type": "stream",
     "text": [
      "Evaluating:  86%|████████▌ | 6/7 [02:39<00:27, 27.46s/it]"
     ]
    },
    {
     "name": "stdout",
     "output_type": "stream",
     "text": [
      "The generated CADquery : {'test_0': '.The .. .. .. .. .. ....................................................................................................................................................................................................................................................', 'test_1': '.The .. .. .. .. .. ....................................................................................................................................................................................................................................................', 'test_2': '.The .. .. .. .. .. ....................................................................................................................................................................................................................................................', 'test_3': '.The .. .. .. .. .. ....................................................................................................................................................................................................................................................', 'test_4': '.The .. .. .. .. .. ....................................................................................................................................................................................................................................................', 'test_5': '.The .. .. .. .. .. ....................................................................................................................................................................................................................................................', 'test_6': '.The .. .. .. .. .. ....................................................................................................................................................................................................................................................', 'test_7': '.The .. .. .. .. .. ....................................................................................................................................................................................................................................................', 'test_8': '.The .. .. .. .. .. ....................................................................................................................................................................................................................................................', 'test_9': '.The .. .. .. .. .. ....................................................................................................................................................................................................................................................', 'test_10': '.The .. .. .. .. .. ....................................................................................................................................................................................................................................................'}\n",
      "The ground truths:  {'test_0': 'import cadquery as cq\\n# Generating a workplane for sketch 0\\nwp_sketch0 = cq.Workplane(cq.Plane(cq.Vector(-0.4453125, 0.0, -0.71875), cq.Vector(1.0, 6.123233995736766e-17, -6.123233995736766e-17), cq.Vector(6.123233995736766e-17, -1.0, 6.123233995736766e-17)))\\nloop0=wp_sketch0.moveTo(0.8927631578947368, 0.0).lineTo(0.8927631578947368, 1.4375).lineTo(0.0, 1.4375).lineTo(0.0, 0.0).close()\\nsolid0=wp_sketch0.add(loop0).extrude(0.0234375)\\nsolid=solid0\\n', 'test_1': 'import cadquery as cq\\n# Generating a workplane for sketch 0\\nwp_sketch0 = cq.Workplane(cq.Plane(cq.Vector(-0.4140625, -0.375, 0.0), cq.Vector(1.0, 0.0, 0.0), cq.Vector(0.0, 0.0, 1.0)))\\nloop0=wp_sketch0.moveTo(0.8203125000000001, 0.0).lineTo(0.8203125000000001, 0.751233552631579).lineTo(0.0, 0.751233552631579).lineTo(0.0, 0.0).close()\\nsolid0=wp_sketch0.add(loop0).extrude(0.046875)\\nsolid=solid0\\n# Generating a workplane for sketch 1\\nwp_sketch1 = cq.Workplane(cq.Plane(cq.Vector(0.4140625, -0.375, 0.0), cq.Vector(1.0, 0.0, 0.0), cq.Vector(0.0, 0.0, 1.0)))\\nloop1=wp_sketch1.moveTo(0.0, 0.0).threePointArc((0.09404764867414023, 0.1307547373597976), (0.2368421052631579, 0.20526315789473684)).lineTo(0.3394736842105263, 0.20526315789473684).lineTo(0.3394736842105263, 0.5447368421052632).lineTo(0.2368421052631579, 0.5447368421052632).threePointArc((0.09404764867414023, 0.6192452626402022), (0.0, 0.75)).lineTo(0.0, 0.0).close()\\nsolid1=wp_sketch1.add(loop1).extrude(0.046875)\\nsolid=solid.union(solid1)\\n# Generating a workplane for sketch 2\\nwp_sketch2 = cq.Workplane(cq.Plane(cq.Vector(-0.75, -0.171875, 0.0), cq.Vector(1.0, 0.0, 0.0), cq.Vector(0.0, 0.0, 1.0)))\\nloop2=wp_sketch2.moveTo(0.09786184210526315, 0.0).threePointArc((0.2433577636108758, -0.07490936350660987), (0.33963815789473684, -0.20723684210526314)).lineTo(0.33963815789473684, 0.546875).threePointArc((0.24335776361087563, 0.4145475214013467), (0.09786184210526315, 0.33963815789473684)).lineTo(0.0, 0.33963815789473684).lineTo(0.0, 0.0).close()\\nsolid2=wp_sketch2.add(loop2).extrude(0.046875)\\nsolid=solid.union(solid2)\\n', 'test_2': 'import cadquery as cq\\n# Generating a workplane for sketch 0\\nwp_sketch0 = cq.Workplane(cq.Plane(cq.Vector(-0.125, 0.0, 0.0), cq.Vector(1.0, 6.123233995736766e-17, -6.123233995736766e-17), cq.Vector(6.123233995736766e-17, -1.0, 6.123233995736766e-17)))\\nloop0=wp_sketch0.moveTo(0.12631578947368421, 0.0).circle(0.12631578947368421)\\nsolid0=wp_sketch0.add(loop0).extrude(0.75)\\nsolid=solid0\\n', 'test_3': 'import cadquery as cq\\n# Generating a workplane for sketch 0\\nwp_sketch0 = cq.Workplane(cq.Plane(cq.Vector(-0.5625, 0.0, 0.0), cq.Vector(1.0, 0.0, 0.0), cq.Vector(0.0, 0.0, 1.0)))\\nloop0=wp_sketch0.moveTo(0.5684210526315789, 0.0).circle(0.5684210526315789)\\nsolid0=wp_sketch0.add(loop0).extrude(0.375)\\nsolid=solid0\\n# Generating a workplane for sketch 1\\nwp_sketch1 = cq.Workplane(cq.Plane(cq.Vector(-0.28125, 0.0, 0.0), cq.Vector(1.0, 0.0, 0.0), cq.Vector(0.0, 0.0, 1.0)))\\nloop1=wp_sketch1.moveTo(0.28421052631578947, 0.0).circle(0.28421052631578947)\\nsolid1=wp_sketch1.add(loop1).extrude(0.75)\\nsolid=solid.union(solid1)\\n', 'test_4': 'import cadquery as cq\\n# Generating a workplane for sketch 0\\nwp_sketch0 = cq.Workplane(cq.Plane(cq.Vector(0.0, 0.0, 0.0), cq.Vector(1.0, 0.0, 0.0), cq.Vector(0.0, 0.0, 1.0)))\\nloop0=wp_sketch0.moveTo(0.0, 0.0).threePointArc((0.375, 0.375), (0.0, 0.75)).lineTo(0.0, 0.718421052631579).threePointArc((0.34342105263157896, 0.375), (0.0, 0.031578947368421054)).lineTo(0.0, 0.0).close()\\nsolid0=wp_sketch0.add(loop0).extrude(0.0234375, both=True)\\nsolid=solid0\\n', 'test_5': 'import cadquery as cq\\n# Generating a workplane for sketch 0\\nwp_sketch0 = cq.Workplane(cq.Plane(cq.Vector(-0.75, -0.5703125, 0.0), cq.Vector(1.0, 0.0, 0.0), cq.Vector(0.0, 0.0, 1.0)))\\nloop0=wp_sketch0.moveTo(1.5, 0.0).lineTo(1.5, 1.1526315789473685).lineTo(0.0, 1.1526315789473685).lineTo(0.0, 0.0).close()\\nsolid0=wp_sketch0.add(loop0).extrude(0.0078125, both=True)\\nsolid=solid0\\n', 'test_6': 'import cadquery as cq\\n# Generating a workplane for sketch 0\\nwp_sketch0 = cq.Workplane(cq.Plane(cq.Vector(0.0, 0.0, 0.0), cq.Vector(1.0, 6.123233995736766e-17, -6.123233995736766e-17), cq.Vector(6.123233995736766e-17, -1.0, 6.123233995736766e-17)))\\nloop0=wp_sketch0.moveTo(0.75, 0.0).lineTo(0.75, 0.16578947368421054).lineTo(0.6157894736842106, 0.16578947368421054).lineTo(0.6157894736842106, 0.0868421052631579).lineTo(0.5131578947368421, 0.0868421052631579).lineTo(0.5131578947368421, 0.25263157894736843).lineTo(0.3473684210526316, 0.25263157894736843).lineTo(0.3473684210526316, 0.0868421052631579).lineTo(0.25263157894736843, 0.0868421052631579).lineTo(0.25263157894736843, 0.16578947368421054).lineTo(0.0, 0.16578947368421054).lineTo(0.0, 0.0).close()\\nsolid0=wp_sketch0.add(loop0).extrude(0.0859375)\\nsolid=solid0\\n', 'test_7': 'import cadquery as cq\\n# Generating a workplane for sketch 0\\nwp_sketch0 = cq.Workplane(cq.Plane(cq.Vector(0.0, 0.0, -0.1484375), cq.Vector(1.0, 6.123233995736766e-17, -6.123233995736766e-17), cq.Vector(6.123233995736766e-17, -1.0, 6.123233995736766e-17)))\\nloop0=wp_sketch0.moveTo(0.0, 0.0).threePointArc((0.09503655495405804, -0.11763033526591243), (0.22894736842105265, -0.04736842105263158)).threePointArc((0.2572891574935103, -0.012907420450791712), (0.3, 0.0)).lineTo(0.75, 0.0).lineTo(0.75, 0.3).lineTo(0.0, 0.3).lineTo(0.0, 0.0).close()\\nsolid0=wp_sketch0.add(loop0).extrude(0.1484375, both=True)\\nsolid=solid0\\n', 'test_8': 'import cadquery as cq\\n# Generating a workplane for sketch 0\\nwp_sketch0 = cq.Workplane(cq.Plane(cq.Vector(0.0, -0.359375, 0.0), cq.Vector(1.0, 0.0, 0.0), cq.Vector(0.0, 0.0, 1.0)))\\nloop0=wp_sketch0.moveTo(0.6640625, 0.0).lineTo(0.6640625, 0.3564967105263158).lineTo(0.0, 0.3564967105263158).lineTo(0.0, 0.0).close()\\nsolid0=wp_sketch0.add(loop0).extrude(0.75)\\nsolid=solid0\\n', 'test_9': 'import cadquery as cq\\n# Generating a workplane for sketch 0\\nwp_sketch0 = cq.Workplane(cq.Plane(cq.Vector(-0.3671875, 0.4609375, 0.0), cq.Vector(1.0, 0.0, 0.0), cq.Vector(0.0, 0.0, 1.0)))\\nloop0=wp_sketch0.moveTo(0.5234375, 0.0).lineTo(0.5234375, 0.18182565789473684).lineTo(0.0, 0.18182565789473684).lineTo(0.0, 0.0).close()\\nloop1=wp_sketch0.moveTo(0.13223684210526315, 0.09366776315789474).circle(0.03856907894736842)\\nsolid0=wp_sketch0.add(loop0).add(loop1).extrude(0.5234375)\\nsolid=solid0\\n# Generating a workplane for sketch 1\\nwp_sketch1 = cq.Workplane(cq.Plane(cq.Vector(-0.2421875, 0.6484375, 0.1796875), cq.Vector(-1.0, 6.123233995736766e-17, -6.123233995736766e-17), cq.Vector(6.123233995736766e-17, 1.0, 6.123233995736766e-17)))\\nloop2=wp_sketch1.moveTo(0.1332236842105263, 0.0).lineTo(0.1332236842105263, 0.15625).lineTo(0.0, 0.15625).lineTo(0.0, 0.0).close()\\nsolid1=wp_sketch1.add(loop2).extrude(0.1015625)\\nsolid=solid.union(solid1)\\n# Generating a workplane for sketch 2\\nwp_sketch2 = cq.Workplane(cq.Plane(cq.Vector(-0.0390625, 0.4609375, 0.2578125), cq.Vector(1.0, 6.123233995736766e-17, -6.123233995736766e-17), cq.Vector(6.123233995736766e-17, -1.0, 6.123233995736766e-17)))\\nloop3=wp_sketch2.moveTo(0.05921052631578947, 0.0).circle(0.05921052631578947)\\nsolid2=wp_sketch2.add(loop3).extrude(-0.6484375)\\nsolid=solid.cut(solid2)\\n', 'test_10': 'import cadquery as cq\\n# Generating a workplane for sketch 0\\nwp_sketch0 = cq.Workplane(cq.Plane(cq.Vector(-0.75, -0.484375, 0.0), cq.Vector(1.0, 0.0, 0.0), cq.Vector(0.0, 0.0, 1.0)))\\nloop0=wp_sketch0.moveTo(1.4296875, 0.0).lineTo(1.4296875, 1.128700657894737).lineTo(0.0, 1.128700657894737).lineTo(0.0, 0.0).close()\\nsolid0=wp_sketch0.add(loop0).extrude(0.34375)\\nsolid=solid0\\n'}\n",
      "The generated CADquery : {'test_0': '.The .. .. .. .. .. ....................................................................................................................................................................................................................................................', 'test_1': '.The .. .. .. .. .. ....................................................................................................................................................................................................................................................', 'test_2': '.The .. .. .. .. .. ....................................................................................................................................................................................................................................................', 'test_3': '.The .. .. .. .. .. ....................................................................................................................................................................................................................................................', 'test_4': '.The .. .. .. .. .. ....................................................................................................................................................................................................................................................', 'test_5': '.The .. .. .. .. .. ....................................................................................................................................................................................................................................................', 'test_6': '.The .. .. .. .. .. ....................................................................................................................................................................................................................................................', 'test_7': '.The .. .. .. .. .. ....................................................................................................................................................................................................................................................', 'test_8': '.The .. .. .. .. .. ....................................................................................................................................................................................................................................................', 'test_9': '.The .. .. .. .. .. ....................................................................................................................................................................................................................................................', 'test_10': '.The .. .. .. .. .. ....................................................................................................................................................................................................................................................', 'test_11': '.The .. .. .. .. .. ....................................................................................................................................................................................................................................................'}\n",
      "The ground truths:  {'test_0': 'import cadquery as cq\\n# Generating a workplane for sketch 0\\nwp_sketch0 = cq.Workplane(cq.Plane(cq.Vector(-0.4453125, 0.0, -0.71875), cq.Vector(1.0, 6.123233995736766e-17, -6.123233995736766e-17), cq.Vector(6.123233995736766e-17, -1.0, 6.123233995736766e-17)))\\nloop0=wp_sketch0.moveTo(0.8927631578947368, 0.0).lineTo(0.8927631578947368, 1.4375).lineTo(0.0, 1.4375).lineTo(0.0, 0.0).close()\\nsolid0=wp_sketch0.add(loop0).extrude(0.0234375)\\nsolid=solid0\\n', 'test_1': 'import cadquery as cq\\n# Generating a workplane for sketch 0\\nwp_sketch0 = cq.Workplane(cq.Plane(cq.Vector(-0.4140625, -0.375, 0.0), cq.Vector(1.0, 0.0, 0.0), cq.Vector(0.0, 0.0, 1.0)))\\nloop0=wp_sketch0.moveTo(0.8203125000000001, 0.0).lineTo(0.8203125000000001, 0.751233552631579).lineTo(0.0, 0.751233552631579).lineTo(0.0, 0.0).close()\\nsolid0=wp_sketch0.add(loop0).extrude(0.046875)\\nsolid=solid0\\n# Generating a workplane for sketch 1\\nwp_sketch1 = cq.Workplane(cq.Plane(cq.Vector(0.4140625, -0.375, 0.0), cq.Vector(1.0, 0.0, 0.0), cq.Vector(0.0, 0.0, 1.0)))\\nloop1=wp_sketch1.moveTo(0.0, 0.0).threePointArc((0.09404764867414023, 0.1307547373597976), (0.2368421052631579, 0.20526315789473684)).lineTo(0.3394736842105263, 0.20526315789473684).lineTo(0.3394736842105263, 0.5447368421052632).lineTo(0.2368421052631579, 0.5447368421052632).threePointArc((0.09404764867414023, 0.6192452626402022), (0.0, 0.75)).lineTo(0.0, 0.0).close()\\nsolid1=wp_sketch1.add(loop1).extrude(0.046875)\\nsolid=solid.union(solid1)\\n# Generating a workplane for sketch 2\\nwp_sketch2 = cq.Workplane(cq.Plane(cq.Vector(-0.75, -0.171875, 0.0), cq.Vector(1.0, 0.0, 0.0), cq.Vector(0.0, 0.0, 1.0)))\\nloop2=wp_sketch2.moveTo(0.09786184210526315, 0.0).threePointArc((0.2433577636108758, -0.07490936350660987), (0.33963815789473684, -0.20723684210526314)).lineTo(0.33963815789473684, 0.546875).threePointArc((0.24335776361087563, 0.4145475214013467), (0.09786184210526315, 0.33963815789473684)).lineTo(0.0, 0.33963815789473684).lineTo(0.0, 0.0).close()\\nsolid2=wp_sketch2.add(loop2).extrude(0.046875)\\nsolid=solid.union(solid2)\\n', 'test_2': 'import cadquery as cq\\n# Generating a workplane for sketch 0\\nwp_sketch0 = cq.Workplane(cq.Plane(cq.Vector(-0.125, 0.0, 0.0), cq.Vector(1.0, 6.123233995736766e-17, -6.123233995736766e-17), cq.Vector(6.123233995736766e-17, -1.0, 6.123233995736766e-17)))\\nloop0=wp_sketch0.moveTo(0.12631578947368421, 0.0).circle(0.12631578947368421)\\nsolid0=wp_sketch0.add(loop0).extrude(0.75)\\nsolid=solid0\\n', 'test_3': 'import cadquery as cq\\n# Generating a workplane for sketch 0\\nwp_sketch0 = cq.Workplane(cq.Plane(cq.Vector(-0.5625, 0.0, 0.0), cq.Vector(1.0, 0.0, 0.0), cq.Vector(0.0, 0.0, 1.0)))\\nloop0=wp_sketch0.moveTo(0.5684210526315789, 0.0).circle(0.5684210526315789)\\nsolid0=wp_sketch0.add(loop0).extrude(0.375)\\nsolid=solid0\\n# Generating a workplane for sketch 1\\nwp_sketch1 = cq.Workplane(cq.Plane(cq.Vector(-0.28125, 0.0, 0.0), cq.Vector(1.0, 0.0, 0.0), cq.Vector(0.0, 0.0, 1.0)))\\nloop1=wp_sketch1.moveTo(0.28421052631578947, 0.0).circle(0.28421052631578947)\\nsolid1=wp_sketch1.add(loop1).extrude(0.75)\\nsolid=solid.union(solid1)\\n', 'test_4': 'import cadquery as cq\\n# Generating a workplane for sketch 0\\nwp_sketch0 = cq.Workplane(cq.Plane(cq.Vector(0.0, 0.0, 0.0), cq.Vector(1.0, 0.0, 0.0), cq.Vector(0.0, 0.0, 1.0)))\\nloop0=wp_sketch0.moveTo(0.0, 0.0).threePointArc((0.375, 0.375), (0.0, 0.75)).lineTo(0.0, 0.718421052631579).threePointArc((0.34342105263157896, 0.375), (0.0, 0.031578947368421054)).lineTo(0.0, 0.0).close()\\nsolid0=wp_sketch0.add(loop0).extrude(0.0234375, both=True)\\nsolid=solid0\\n', 'test_5': 'import cadquery as cq\\n# Generating a workplane for sketch 0\\nwp_sketch0 = cq.Workplane(cq.Plane(cq.Vector(-0.75, -0.5703125, 0.0), cq.Vector(1.0, 0.0, 0.0), cq.Vector(0.0, 0.0, 1.0)))\\nloop0=wp_sketch0.moveTo(1.5, 0.0).lineTo(1.5, 1.1526315789473685).lineTo(0.0, 1.1526315789473685).lineTo(0.0, 0.0).close()\\nsolid0=wp_sketch0.add(loop0).extrude(0.0078125, both=True)\\nsolid=solid0\\n', 'test_6': 'import cadquery as cq\\n# Generating a workplane for sketch 0\\nwp_sketch0 = cq.Workplane(cq.Plane(cq.Vector(0.0, 0.0, 0.0), cq.Vector(1.0, 6.123233995736766e-17, -6.123233995736766e-17), cq.Vector(6.123233995736766e-17, -1.0, 6.123233995736766e-17)))\\nloop0=wp_sketch0.moveTo(0.75, 0.0).lineTo(0.75, 0.16578947368421054).lineTo(0.6157894736842106, 0.16578947368421054).lineTo(0.6157894736842106, 0.0868421052631579).lineTo(0.5131578947368421, 0.0868421052631579).lineTo(0.5131578947368421, 0.25263157894736843).lineTo(0.3473684210526316, 0.25263157894736843).lineTo(0.3473684210526316, 0.0868421052631579).lineTo(0.25263157894736843, 0.0868421052631579).lineTo(0.25263157894736843, 0.16578947368421054).lineTo(0.0, 0.16578947368421054).lineTo(0.0, 0.0).close()\\nsolid0=wp_sketch0.add(loop0).extrude(0.0859375)\\nsolid=solid0\\n', 'test_7': 'import cadquery as cq\\n# Generating a workplane for sketch 0\\nwp_sketch0 = cq.Workplane(cq.Plane(cq.Vector(0.0, 0.0, -0.1484375), cq.Vector(1.0, 6.123233995736766e-17, -6.123233995736766e-17), cq.Vector(6.123233995736766e-17, -1.0, 6.123233995736766e-17)))\\nloop0=wp_sketch0.moveTo(0.0, 0.0).threePointArc((0.09503655495405804, -0.11763033526591243), (0.22894736842105265, -0.04736842105263158)).threePointArc((0.2572891574935103, -0.012907420450791712), (0.3, 0.0)).lineTo(0.75, 0.0).lineTo(0.75, 0.3).lineTo(0.0, 0.3).lineTo(0.0, 0.0).close()\\nsolid0=wp_sketch0.add(loop0).extrude(0.1484375, both=True)\\nsolid=solid0\\n', 'test_8': 'import cadquery as cq\\n# Generating a workplane for sketch 0\\nwp_sketch0 = cq.Workplane(cq.Plane(cq.Vector(0.0, -0.359375, 0.0), cq.Vector(1.0, 0.0, 0.0), cq.Vector(0.0, 0.0, 1.0)))\\nloop0=wp_sketch0.moveTo(0.6640625, 0.0).lineTo(0.6640625, 0.3564967105263158).lineTo(0.0, 0.3564967105263158).lineTo(0.0, 0.0).close()\\nsolid0=wp_sketch0.add(loop0).extrude(0.75)\\nsolid=solid0\\n', 'test_9': 'import cadquery as cq\\n# Generating a workplane for sketch 0\\nwp_sketch0 = cq.Workplane(cq.Plane(cq.Vector(-0.3671875, 0.4609375, 0.0), cq.Vector(1.0, 0.0, 0.0), cq.Vector(0.0, 0.0, 1.0)))\\nloop0=wp_sketch0.moveTo(0.5234375, 0.0).lineTo(0.5234375, 0.18182565789473684).lineTo(0.0, 0.18182565789473684).lineTo(0.0, 0.0).close()\\nloop1=wp_sketch0.moveTo(0.13223684210526315, 0.09366776315789474).circle(0.03856907894736842)\\nsolid0=wp_sketch0.add(loop0).add(loop1).extrude(0.5234375)\\nsolid=solid0\\n# Generating a workplane for sketch 1\\nwp_sketch1 = cq.Workplane(cq.Plane(cq.Vector(-0.2421875, 0.6484375, 0.1796875), cq.Vector(-1.0, 6.123233995736766e-17, -6.123233995736766e-17), cq.Vector(6.123233995736766e-17, 1.0, 6.123233995736766e-17)))\\nloop2=wp_sketch1.moveTo(0.1332236842105263, 0.0).lineTo(0.1332236842105263, 0.15625).lineTo(0.0, 0.15625).lineTo(0.0, 0.0).close()\\nsolid1=wp_sketch1.add(loop2).extrude(0.1015625)\\nsolid=solid.union(solid1)\\n# Generating a workplane for sketch 2\\nwp_sketch2 = cq.Workplane(cq.Plane(cq.Vector(-0.0390625, 0.4609375, 0.2578125), cq.Vector(1.0, 6.123233995736766e-17, -6.123233995736766e-17), cq.Vector(6.123233995736766e-17, -1.0, 6.123233995736766e-17)))\\nloop3=wp_sketch2.moveTo(0.05921052631578947, 0.0).circle(0.05921052631578947)\\nsolid2=wp_sketch2.add(loop3).extrude(-0.6484375)\\nsolid=solid.cut(solid2)\\n', 'test_10': 'import cadquery as cq\\n# Generating a workplane for sketch 0\\nwp_sketch0 = cq.Workplane(cq.Plane(cq.Vector(-0.75, -0.484375, 0.0), cq.Vector(1.0, 0.0, 0.0), cq.Vector(0.0, 0.0, 1.0)))\\nloop0=wp_sketch0.moveTo(1.4296875, 0.0).lineTo(1.4296875, 1.128700657894737).lineTo(0.0, 1.128700657894737).lineTo(0.0, 0.0).close()\\nsolid0=wp_sketch0.add(loop0).extrude(0.34375)\\nsolid=solid0\\n', 'test_11': 'import cadquery as cq\\n# Generating a workplane for sketch 0\\nwp_sketch0 = cq.Workplane(cq.Plane(cq.Vector(0.7109375, 0.2421875, 0.0), cq.Vector(1.0, 0.0, 0.0), cq.Vector(0.0, 0.0, 1.0)))\\nloop0=wp_sketch0.moveTo(0.0375, 0.0).lineTo(0.0375, 0.046875).lineTo(0.0, 0.046875).lineTo(0.0, 0.0).close()\\nsolid0=wp_sketch0.add(loop0).extrude(0.0234375)\\nsolid=solid0\\n# Generating a workplane for sketch 1\\nwp_sketch1 = cq.Workplane(cq.Plane(cq.Vector(0.7109375, 0.0703125, 0.0), cq.Vector(1.0, 0.0, 0.0), cq.Vector(0.0, 0.0, 1.0)))\\nloop1=wp_sketch1.moveTo(0.0375, 0.0).lineTo(0.0375, 0.046875).lineTo(0.0, 0.046875).lineTo(0.0, 0.0).close()\\nsolid1=wp_sketch1.add(loop1).extrude(0.0234375)\\nsolid=solid.union(solid1)\\n# Generating a workplane for sketch 2\\nwp_sketch2 = cq.Workplane(cq.Plane(cq.Vector(0.0, 0.0, 0.0), cq.Vector(1.0, 0.0, 0.0), cq.Vector(0.0, 0.0, 1.0)))\\nloop2=wp_sketch2.moveTo(0.7109375, 0.0).lineTo(0.7109375, 0.07483552631578948).lineTo(0.7109375, 0.11225328947368421).lineTo(0.7109375, 0.2394736842105263).lineTo(0.7109375, 0.284375).lineTo(0.7109375, 0.3592105263157895).lineTo(0.0, 0.3592105263157895).lineTo(0.0, 0.0).close()\\nsolid2=wp_sketch2.add(loop2).extrude(0.0234375)\\nsolid=solid.union(solid2)\\n'}\n"
     ]
    },
    {
     "name": "stderr",
     "output_type": "stream",
     "text": [
      "Evaluating: 100%|██████████| 7/7 [03:04<00:00, 26.37s/it]"
     ]
    },
    {
     "name": "stdout",
     "output_type": "stream",
     "text": [
      "The generated CADquery : {'test_0': '.The .. .. .. .. .. ....................................................................................................................................................................................................................................................', 'test_1': '.The .. .. .. .. .. ....................................................................................................................................................................................................................................................', 'test_2': '.The .. .. .. .. .. ....................................................................................................................................................................................................................................................', 'test_3': '.The .. .. .. .. .. ....................................................................................................................................................................................................................................................', 'test_4': '.The .. .. .. .. .. ....................................................................................................................................................................................................................................................', 'test_5': '.The .. .. .. .. .. ....................................................................................................................................................................................................................................................', 'test_6': '.The .. .. .. .. .. ....................................................................................................................................................................................................................................................', 'test_7': '.The .. .. .. .. .. ....................................................................................................................................................................................................................................................', 'test_8': '.The .. .. .. .. .. ....................................................................................................................................................................................................................................................', 'test_9': '.The .. .. .. .. .. ....................................................................................................................................................................................................................................................', 'test_10': '.The .. .. .. .. .. ....................................................................................................................................................................................................................................................', 'test_11': '.The .. .. .. .. .. ....................................................................................................................................................................................................................................................', 'test_12': '.The .. .. .. .. .. ....................................................................................................................................................................................................................................................'}\n",
      "The ground truths:  {'test_0': 'import cadquery as cq\\n# Generating a workplane for sketch 0\\nwp_sketch0 = cq.Workplane(cq.Plane(cq.Vector(-0.4453125, 0.0, -0.71875), cq.Vector(1.0, 6.123233995736766e-17, -6.123233995736766e-17), cq.Vector(6.123233995736766e-17, -1.0, 6.123233995736766e-17)))\\nloop0=wp_sketch0.moveTo(0.8927631578947368, 0.0).lineTo(0.8927631578947368, 1.4375).lineTo(0.0, 1.4375).lineTo(0.0, 0.0).close()\\nsolid0=wp_sketch0.add(loop0).extrude(0.0234375)\\nsolid=solid0\\n', 'test_1': 'import cadquery as cq\\n# Generating a workplane for sketch 0\\nwp_sketch0 = cq.Workplane(cq.Plane(cq.Vector(-0.4140625, -0.375, 0.0), cq.Vector(1.0, 0.0, 0.0), cq.Vector(0.0, 0.0, 1.0)))\\nloop0=wp_sketch0.moveTo(0.8203125000000001, 0.0).lineTo(0.8203125000000001, 0.751233552631579).lineTo(0.0, 0.751233552631579).lineTo(0.0, 0.0).close()\\nsolid0=wp_sketch0.add(loop0).extrude(0.046875)\\nsolid=solid0\\n# Generating a workplane for sketch 1\\nwp_sketch1 = cq.Workplane(cq.Plane(cq.Vector(0.4140625, -0.375, 0.0), cq.Vector(1.0, 0.0, 0.0), cq.Vector(0.0, 0.0, 1.0)))\\nloop1=wp_sketch1.moveTo(0.0, 0.0).threePointArc((0.09404764867414023, 0.1307547373597976), (0.2368421052631579, 0.20526315789473684)).lineTo(0.3394736842105263, 0.20526315789473684).lineTo(0.3394736842105263, 0.5447368421052632).lineTo(0.2368421052631579, 0.5447368421052632).threePointArc((0.09404764867414023, 0.6192452626402022), (0.0, 0.75)).lineTo(0.0, 0.0).close()\\nsolid1=wp_sketch1.add(loop1).extrude(0.046875)\\nsolid=solid.union(solid1)\\n# Generating a workplane for sketch 2\\nwp_sketch2 = cq.Workplane(cq.Plane(cq.Vector(-0.75, -0.171875, 0.0), cq.Vector(1.0, 0.0, 0.0), cq.Vector(0.0, 0.0, 1.0)))\\nloop2=wp_sketch2.moveTo(0.09786184210526315, 0.0).threePointArc((0.2433577636108758, -0.07490936350660987), (0.33963815789473684, -0.20723684210526314)).lineTo(0.33963815789473684, 0.546875).threePointArc((0.24335776361087563, 0.4145475214013467), (0.09786184210526315, 0.33963815789473684)).lineTo(0.0, 0.33963815789473684).lineTo(0.0, 0.0).close()\\nsolid2=wp_sketch2.add(loop2).extrude(0.046875)\\nsolid=solid.union(solid2)\\n', 'test_2': 'import cadquery as cq\\n# Generating a workplane for sketch 0\\nwp_sketch0 = cq.Workplane(cq.Plane(cq.Vector(-0.125, 0.0, 0.0), cq.Vector(1.0, 6.123233995736766e-17, -6.123233995736766e-17), cq.Vector(6.123233995736766e-17, -1.0, 6.123233995736766e-17)))\\nloop0=wp_sketch0.moveTo(0.12631578947368421, 0.0).circle(0.12631578947368421)\\nsolid0=wp_sketch0.add(loop0).extrude(0.75)\\nsolid=solid0\\n', 'test_3': 'import cadquery as cq\\n# Generating a workplane for sketch 0\\nwp_sketch0 = cq.Workplane(cq.Plane(cq.Vector(-0.5625, 0.0, 0.0), cq.Vector(1.0, 0.0, 0.0), cq.Vector(0.0, 0.0, 1.0)))\\nloop0=wp_sketch0.moveTo(0.5684210526315789, 0.0).circle(0.5684210526315789)\\nsolid0=wp_sketch0.add(loop0).extrude(0.375)\\nsolid=solid0\\n# Generating a workplane for sketch 1\\nwp_sketch1 = cq.Workplane(cq.Plane(cq.Vector(-0.28125, 0.0, 0.0), cq.Vector(1.0, 0.0, 0.0), cq.Vector(0.0, 0.0, 1.0)))\\nloop1=wp_sketch1.moveTo(0.28421052631578947, 0.0).circle(0.28421052631578947)\\nsolid1=wp_sketch1.add(loop1).extrude(0.75)\\nsolid=solid.union(solid1)\\n', 'test_4': 'import cadquery as cq\\n# Generating a workplane for sketch 0\\nwp_sketch0 = cq.Workplane(cq.Plane(cq.Vector(0.0, 0.0, 0.0), cq.Vector(1.0, 0.0, 0.0), cq.Vector(0.0, 0.0, 1.0)))\\nloop0=wp_sketch0.moveTo(0.0, 0.0).threePointArc((0.375, 0.375), (0.0, 0.75)).lineTo(0.0, 0.718421052631579).threePointArc((0.34342105263157896, 0.375), (0.0, 0.031578947368421054)).lineTo(0.0, 0.0).close()\\nsolid0=wp_sketch0.add(loop0).extrude(0.0234375, both=True)\\nsolid=solid0\\n', 'test_5': 'import cadquery as cq\\n# Generating a workplane for sketch 0\\nwp_sketch0 = cq.Workplane(cq.Plane(cq.Vector(-0.75, -0.5703125, 0.0), cq.Vector(1.0, 0.0, 0.0), cq.Vector(0.0, 0.0, 1.0)))\\nloop0=wp_sketch0.moveTo(1.5, 0.0).lineTo(1.5, 1.1526315789473685).lineTo(0.0, 1.1526315789473685).lineTo(0.0, 0.0).close()\\nsolid0=wp_sketch0.add(loop0).extrude(0.0078125, both=True)\\nsolid=solid0\\n', 'test_6': 'import cadquery as cq\\n# Generating a workplane for sketch 0\\nwp_sketch0 = cq.Workplane(cq.Plane(cq.Vector(0.0, 0.0, 0.0), cq.Vector(1.0, 6.123233995736766e-17, -6.123233995736766e-17), cq.Vector(6.123233995736766e-17, -1.0, 6.123233995736766e-17)))\\nloop0=wp_sketch0.moveTo(0.75, 0.0).lineTo(0.75, 0.16578947368421054).lineTo(0.6157894736842106, 0.16578947368421054).lineTo(0.6157894736842106, 0.0868421052631579).lineTo(0.5131578947368421, 0.0868421052631579).lineTo(0.5131578947368421, 0.25263157894736843).lineTo(0.3473684210526316, 0.25263157894736843).lineTo(0.3473684210526316, 0.0868421052631579).lineTo(0.25263157894736843, 0.0868421052631579).lineTo(0.25263157894736843, 0.16578947368421054).lineTo(0.0, 0.16578947368421054).lineTo(0.0, 0.0).close()\\nsolid0=wp_sketch0.add(loop0).extrude(0.0859375)\\nsolid=solid0\\n', 'test_7': 'import cadquery as cq\\n# Generating a workplane for sketch 0\\nwp_sketch0 = cq.Workplane(cq.Plane(cq.Vector(0.0, 0.0, -0.1484375), cq.Vector(1.0, 6.123233995736766e-17, -6.123233995736766e-17), cq.Vector(6.123233995736766e-17, -1.0, 6.123233995736766e-17)))\\nloop0=wp_sketch0.moveTo(0.0, 0.0).threePointArc((0.09503655495405804, -0.11763033526591243), (0.22894736842105265, -0.04736842105263158)).threePointArc((0.2572891574935103, -0.012907420450791712), (0.3, 0.0)).lineTo(0.75, 0.0).lineTo(0.75, 0.3).lineTo(0.0, 0.3).lineTo(0.0, 0.0).close()\\nsolid0=wp_sketch0.add(loop0).extrude(0.1484375, both=True)\\nsolid=solid0\\n', 'test_8': 'import cadquery as cq\\n# Generating a workplane for sketch 0\\nwp_sketch0 = cq.Workplane(cq.Plane(cq.Vector(0.0, -0.359375, 0.0), cq.Vector(1.0, 0.0, 0.0), cq.Vector(0.0, 0.0, 1.0)))\\nloop0=wp_sketch0.moveTo(0.6640625, 0.0).lineTo(0.6640625, 0.3564967105263158).lineTo(0.0, 0.3564967105263158).lineTo(0.0, 0.0).close()\\nsolid0=wp_sketch0.add(loop0).extrude(0.75)\\nsolid=solid0\\n', 'test_9': 'import cadquery as cq\\n# Generating a workplane for sketch 0\\nwp_sketch0 = cq.Workplane(cq.Plane(cq.Vector(-0.3671875, 0.4609375, 0.0), cq.Vector(1.0, 0.0, 0.0), cq.Vector(0.0, 0.0, 1.0)))\\nloop0=wp_sketch0.moveTo(0.5234375, 0.0).lineTo(0.5234375, 0.18182565789473684).lineTo(0.0, 0.18182565789473684).lineTo(0.0, 0.0).close()\\nloop1=wp_sketch0.moveTo(0.13223684210526315, 0.09366776315789474).circle(0.03856907894736842)\\nsolid0=wp_sketch0.add(loop0).add(loop1).extrude(0.5234375)\\nsolid=solid0\\n# Generating a workplane for sketch 1\\nwp_sketch1 = cq.Workplane(cq.Plane(cq.Vector(-0.2421875, 0.6484375, 0.1796875), cq.Vector(-1.0, 6.123233995736766e-17, -6.123233995736766e-17), cq.Vector(6.123233995736766e-17, 1.0, 6.123233995736766e-17)))\\nloop2=wp_sketch1.moveTo(0.1332236842105263, 0.0).lineTo(0.1332236842105263, 0.15625).lineTo(0.0, 0.15625).lineTo(0.0, 0.0).close()\\nsolid1=wp_sketch1.add(loop2).extrude(0.1015625)\\nsolid=solid.union(solid1)\\n# Generating a workplane for sketch 2\\nwp_sketch2 = cq.Workplane(cq.Plane(cq.Vector(-0.0390625, 0.4609375, 0.2578125), cq.Vector(1.0, 6.123233995736766e-17, -6.123233995736766e-17), cq.Vector(6.123233995736766e-17, -1.0, 6.123233995736766e-17)))\\nloop3=wp_sketch2.moveTo(0.05921052631578947, 0.0).circle(0.05921052631578947)\\nsolid2=wp_sketch2.add(loop3).extrude(-0.6484375)\\nsolid=solid.cut(solid2)\\n', 'test_10': 'import cadquery as cq\\n# Generating a workplane for sketch 0\\nwp_sketch0 = cq.Workplane(cq.Plane(cq.Vector(-0.75, -0.484375, 0.0), cq.Vector(1.0, 0.0, 0.0), cq.Vector(0.0, 0.0, 1.0)))\\nloop0=wp_sketch0.moveTo(1.4296875, 0.0).lineTo(1.4296875, 1.128700657894737).lineTo(0.0, 1.128700657894737).lineTo(0.0, 0.0).close()\\nsolid0=wp_sketch0.add(loop0).extrude(0.34375)\\nsolid=solid0\\n', 'test_11': 'import cadquery as cq\\n# Generating a workplane for sketch 0\\nwp_sketch0 = cq.Workplane(cq.Plane(cq.Vector(0.7109375, 0.2421875, 0.0), cq.Vector(1.0, 0.0, 0.0), cq.Vector(0.0, 0.0, 1.0)))\\nloop0=wp_sketch0.moveTo(0.0375, 0.0).lineTo(0.0375, 0.046875).lineTo(0.0, 0.046875).lineTo(0.0, 0.0).close()\\nsolid0=wp_sketch0.add(loop0).extrude(0.0234375)\\nsolid=solid0\\n# Generating a workplane for sketch 1\\nwp_sketch1 = cq.Workplane(cq.Plane(cq.Vector(0.7109375, 0.0703125, 0.0), cq.Vector(1.0, 0.0, 0.0), cq.Vector(0.0, 0.0, 1.0)))\\nloop1=wp_sketch1.moveTo(0.0375, 0.0).lineTo(0.0375, 0.046875).lineTo(0.0, 0.046875).lineTo(0.0, 0.0).close()\\nsolid1=wp_sketch1.add(loop1).extrude(0.0234375)\\nsolid=solid.union(solid1)\\n# Generating a workplane for sketch 2\\nwp_sketch2 = cq.Workplane(cq.Plane(cq.Vector(0.0, 0.0, 0.0), cq.Vector(1.0, 0.0, 0.0), cq.Vector(0.0, 0.0, 1.0)))\\nloop2=wp_sketch2.moveTo(0.7109375, 0.0).lineTo(0.7109375, 0.07483552631578948).lineTo(0.7109375, 0.11225328947368421).lineTo(0.7109375, 0.2394736842105263).lineTo(0.7109375, 0.284375).lineTo(0.7109375, 0.3592105263157895).lineTo(0.0, 0.3592105263157895).lineTo(0.0, 0.0).close()\\nsolid2=wp_sketch2.add(loop2).extrude(0.0234375)\\nsolid=solid.union(solid2)\\n', 'test_12': 'import cadquery as cq\\n# Generating a workplane for sketch 0\\nwp_sketch0 = cq.Workplane(cq.Plane(cq.Vector(-0.75, 0.0, 0.0), cq.Vector(1.0, 0.0, 0.0), cq.Vector(0.0, 0.0, 1.0)))\\nloop0=wp_sketch0.moveTo(0.7578947368421053, 0.0).circle(0.7421052631578947)\\nloop1=wp_sketch0.moveTo(0.7578947368421053, 0.0).circle(0.6947368421052632)\\nsolid0=wp_sketch0.add(loop0).add(loop1).extrude(0.0234375, both=True)\\nsolid=solid0\\n'}\n",
      "The generated CADquery : {'test_0': '.The .. .. .. .. .. ....................................................................................................................................................................................................................................................', 'test_1': '.The .. .. .. .. .. ....................................................................................................................................................................................................................................................', 'test_2': '.The .. .. .. .. .. ....................................................................................................................................................................................................................................................', 'test_3': '.The .. .. .. .. .. ....................................................................................................................................................................................................................................................', 'test_4': '.The .. .. .. .. .. ....................................................................................................................................................................................................................................................', 'test_5': '.The .. .. .. .. .. ....................................................................................................................................................................................................................................................', 'test_6': '.The .. .. .. .. .. ....................................................................................................................................................................................................................................................', 'test_7': '.The .. .. .. .. .. ....................................................................................................................................................................................................................................................', 'test_8': '.The .. .. .. .. .. ....................................................................................................................................................................................................................................................', 'test_9': '.The .. .. .. .. .. ....................................................................................................................................................................................................................................................', 'test_10': '.The .. .. .. .. .. ....................................................................................................................................................................................................................................................', 'test_11': '.The .. .. .. .. .. ....................................................................................................................................................................................................................................................', 'test_12': '.The .. .. .. .. .. ....................................................................................................................................................................................................................................................', 'test_13': '.The .. .. .. .. .. ....................................................................................................................................................................................................................................................'}\n",
      "The ground truths:  {'test_0': 'import cadquery as cq\\n# Generating a workplane for sketch 0\\nwp_sketch0 = cq.Workplane(cq.Plane(cq.Vector(-0.4453125, 0.0, -0.71875), cq.Vector(1.0, 6.123233995736766e-17, -6.123233995736766e-17), cq.Vector(6.123233995736766e-17, -1.0, 6.123233995736766e-17)))\\nloop0=wp_sketch0.moveTo(0.8927631578947368, 0.0).lineTo(0.8927631578947368, 1.4375).lineTo(0.0, 1.4375).lineTo(0.0, 0.0).close()\\nsolid0=wp_sketch0.add(loop0).extrude(0.0234375)\\nsolid=solid0\\n', 'test_1': 'import cadquery as cq\\n# Generating a workplane for sketch 0\\nwp_sketch0 = cq.Workplane(cq.Plane(cq.Vector(-0.4140625, -0.375, 0.0), cq.Vector(1.0, 0.0, 0.0), cq.Vector(0.0, 0.0, 1.0)))\\nloop0=wp_sketch0.moveTo(0.8203125000000001, 0.0).lineTo(0.8203125000000001, 0.751233552631579).lineTo(0.0, 0.751233552631579).lineTo(0.0, 0.0).close()\\nsolid0=wp_sketch0.add(loop0).extrude(0.046875)\\nsolid=solid0\\n# Generating a workplane for sketch 1\\nwp_sketch1 = cq.Workplane(cq.Plane(cq.Vector(0.4140625, -0.375, 0.0), cq.Vector(1.0, 0.0, 0.0), cq.Vector(0.0, 0.0, 1.0)))\\nloop1=wp_sketch1.moveTo(0.0, 0.0).threePointArc((0.09404764867414023, 0.1307547373597976), (0.2368421052631579, 0.20526315789473684)).lineTo(0.3394736842105263, 0.20526315789473684).lineTo(0.3394736842105263, 0.5447368421052632).lineTo(0.2368421052631579, 0.5447368421052632).threePointArc((0.09404764867414023, 0.6192452626402022), (0.0, 0.75)).lineTo(0.0, 0.0).close()\\nsolid1=wp_sketch1.add(loop1).extrude(0.046875)\\nsolid=solid.union(solid1)\\n# Generating a workplane for sketch 2\\nwp_sketch2 = cq.Workplane(cq.Plane(cq.Vector(-0.75, -0.171875, 0.0), cq.Vector(1.0, 0.0, 0.0), cq.Vector(0.0, 0.0, 1.0)))\\nloop2=wp_sketch2.moveTo(0.09786184210526315, 0.0).threePointArc((0.2433577636108758, -0.07490936350660987), (0.33963815789473684, -0.20723684210526314)).lineTo(0.33963815789473684, 0.546875).threePointArc((0.24335776361087563, 0.4145475214013467), (0.09786184210526315, 0.33963815789473684)).lineTo(0.0, 0.33963815789473684).lineTo(0.0, 0.0).close()\\nsolid2=wp_sketch2.add(loop2).extrude(0.046875)\\nsolid=solid.union(solid2)\\n', 'test_2': 'import cadquery as cq\\n# Generating a workplane for sketch 0\\nwp_sketch0 = cq.Workplane(cq.Plane(cq.Vector(-0.125, 0.0, 0.0), cq.Vector(1.0, 6.123233995736766e-17, -6.123233995736766e-17), cq.Vector(6.123233995736766e-17, -1.0, 6.123233995736766e-17)))\\nloop0=wp_sketch0.moveTo(0.12631578947368421, 0.0).circle(0.12631578947368421)\\nsolid0=wp_sketch0.add(loop0).extrude(0.75)\\nsolid=solid0\\n', 'test_3': 'import cadquery as cq\\n# Generating a workplane for sketch 0\\nwp_sketch0 = cq.Workplane(cq.Plane(cq.Vector(-0.5625, 0.0, 0.0), cq.Vector(1.0, 0.0, 0.0), cq.Vector(0.0, 0.0, 1.0)))\\nloop0=wp_sketch0.moveTo(0.5684210526315789, 0.0).circle(0.5684210526315789)\\nsolid0=wp_sketch0.add(loop0).extrude(0.375)\\nsolid=solid0\\n# Generating a workplane for sketch 1\\nwp_sketch1 = cq.Workplane(cq.Plane(cq.Vector(-0.28125, 0.0, 0.0), cq.Vector(1.0, 0.0, 0.0), cq.Vector(0.0, 0.0, 1.0)))\\nloop1=wp_sketch1.moveTo(0.28421052631578947, 0.0).circle(0.28421052631578947)\\nsolid1=wp_sketch1.add(loop1).extrude(0.75)\\nsolid=solid.union(solid1)\\n', 'test_4': 'import cadquery as cq\\n# Generating a workplane for sketch 0\\nwp_sketch0 = cq.Workplane(cq.Plane(cq.Vector(0.0, 0.0, 0.0), cq.Vector(1.0, 0.0, 0.0), cq.Vector(0.0, 0.0, 1.0)))\\nloop0=wp_sketch0.moveTo(0.0, 0.0).threePointArc((0.375, 0.375), (0.0, 0.75)).lineTo(0.0, 0.718421052631579).threePointArc((0.34342105263157896, 0.375), (0.0, 0.031578947368421054)).lineTo(0.0, 0.0).close()\\nsolid0=wp_sketch0.add(loop0).extrude(0.0234375, both=True)\\nsolid=solid0\\n', 'test_5': 'import cadquery as cq\\n# Generating a workplane for sketch 0\\nwp_sketch0 = cq.Workplane(cq.Plane(cq.Vector(-0.75, -0.5703125, 0.0), cq.Vector(1.0, 0.0, 0.0), cq.Vector(0.0, 0.0, 1.0)))\\nloop0=wp_sketch0.moveTo(1.5, 0.0).lineTo(1.5, 1.1526315789473685).lineTo(0.0, 1.1526315789473685).lineTo(0.0, 0.0).close()\\nsolid0=wp_sketch0.add(loop0).extrude(0.0078125, both=True)\\nsolid=solid0\\n', 'test_6': 'import cadquery as cq\\n# Generating a workplane for sketch 0\\nwp_sketch0 = cq.Workplane(cq.Plane(cq.Vector(0.0, 0.0, 0.0), cq.Vector(1.0, 6.123233995736766e-17, -6.123233995736766e-17), cq.Vector(6.123233995736766e-17, -1.0, 6.123233995736766e-17)))\\nloop0=wp_sketch0.moveTo(0.75, 0.0).lineTo(0.75, 0.16578947368421054).lineTo(0.6157894736842106, 0.16578947368421054).lineTo(0.6157894736842106, 0.0868421052631579).lineTo(0.5131578947368421, 0.0868421052631579).lineTo(0.5131578947368421, 0.25263157894736843).lineTo(0.3473684210526316, 0.25263157894736843).lineTo(0.3473684210526316, 0.0868421052631579).lineTo(0.25263157894736843, 0.0868421052631579).lineTo(0.25263157894736843, 0.16578947368421054).lineTo(0.0, 0.16578947368421054).lineTo(0.0, 0.0).close()\\nsolid0=wp_sketch0.add(loop0).extrude(0.0859375)\\nsolid=solid0\\n', 'test_7': 'import cadquery as cq\\n# Generating a workplane for sketch 0\\nwp_sketch0 = cq.Workplane(cq.Plane(cq.Vector(0.0, 0.0, -0.1484375), cq.Vector(1.0, 6.123233995736766e-17, -6.123233995736766e-17), cq.Vector(6.123233995736766e-17, -1.0, 6.123233995736766e-17)))\\nloop0=wp_sketch0.moveTo(0.0, 0.0).threePointArc((0.09503655495405804, -0.11763033526591243), (0.22894736842105265, -0.04736842105263158)).threePointArc((0.2572891574935103, -0.012907420450791712), (0.3, 0.0)).lineTo(0.75, 0.0).lineTo(0.75, 0.3).lineTo(0.0, 0.3).lineTo(0.0, 0.0).close()\\nsolid0=wp_sketch0.add(loop0).extrude(0.1484375, both=True)\\nsolid=solid0\\n', 'test_8': 'import cadquery as cq\\n# Generating a workplane for sketch 0\\nwp_sketch0 = cq.Workplane(cq.Plane(cq.Vector(0.0, -0.359375, 0.0), cq.Vector(1.0, 0.0, 0.0), cq.Vector(0.0, 0.0, 1.0)))\\nloop0=wp_sketch0.moveTo(0.6640625, 0.0).lineTo(0.6640625, 0.3564967105263158).lineTo(0.0, 0.3564967105263158).lineTo(0.0, 0.0).close()\\nsolid0=wp_sketch0.add(loop0).extrude(0.75)\\nsolid=solid0\\n', 'test_9': 'import cadquery as cq\\n# Generating a workplane for sketch 0\\nwp_sketch0 = cq.Workplane(cq.Plane(cq.Vector(-0.3671875, 0.4609375, 0.0), cq.Vector(1.0, 0.0, 0.0), cq.Vector(0.0, 0.0, 1.0)))\\nloop0=wp_sketch0.moveTo(0.5234375, 0.0).lineTo(0.5234375, 0.18182565789473684).lineTo(0.0, 0.18182565789473684).lineTo(0.0, 0.0).close()\\nloop1=wp_sketch0.moveTo(0.13223684210526315, 0.09366776315789474).circle(0.03856907894736842)\\nsolid0=wp_sketch0.add(loop0).add(loop1).extrude(0.5234375)\\nsolid=solid0\\n# Generating a workplane for sketch 1\\nwp_sketch1 = cq.Workplane(cq.Plane(cq.Vector(-0.2421875, 0.6484375, 0.1796875), cq.Vector(-1.0, 6.123233995736766e-17, -6.123233995736766e-17), cq.Vector(6.123233995736766e-17, 1.0, 6.123233995736766e-17)))\\nloop2=wp_sketch1.moveTo(0.1332236842105263, 0.0).lineTo(0.1332236842105263, 0.15625).lineTo(0.0, 0.15625).lineTo(0.0, 0.0).close()\\nsolid1=wp_sketch1.add(loop2).extrude(0.1015625)\\nsolid=solid.union(solid1)\\n# Generating a workplane for sketch 2\\nwp_sketch2 = cq.Workplane(cq.Plane(cq.Vector(-0.0390625, 0.4609375, 0.2578125), cq.Vector(1.0, 6.123233995736766e-17, -6.123233995736766e-17), cq.Vector(6.123233995736766e-17, -1.0, 6.123233995736766e-17)))\\nloop3=wp_sketch2.moveTo(0.05921052631578947, 0.0).circle(0.05921052631578947)\\nsolid2=wp_sketch2.add(loop3).extrude(-0.6484375)\\nsolid=solid.cut(solid2)\\n', 'test_10': 'import cadquery as cq\\n# Generating a workplane for sketch 0\\nwp_sketch0 = cq.Workplane(cq.Plane(cq.Vector(-0.75, -0.484375, 0.0), cq.Vector(1.0, 0.0, 0.0), cq.Vector(0.0, 0.0, 1.0)))\\nloop0=wp_sketch0.moveTo(1.4296875, 0.0).lineTo(1.4296875, 1.128700657894737).lineTo(0.0, 1.128700657894737).lineTo(0.0, 0.0).close()\\nsolid0=wp_sketch0.add(loop0).extrude(0.34375)\\nsolid=solid0\\n', 'test_11': 'import cadquery as cq\\n# Generating a workplane for sketch 0\\nwp_sketch0 = cq.Workplane(cq.Plane(cq.Vector(0.7109375, 0.2421875, 0.0), cq.Vector(1.0, 0.0, 0.0), cq.Vector(0.0, 0.0, 1.0)))\\nloop0=wp_sketch0.moveTo(0.0375, 0.0).lineTo(0.0375, 0.046875).lineTo(0.0, 0.046875).lineTo(0.0, 0.0).close()\\nsolid0=wp_sketch0.add(loop0).extrude(0.0234375)\\nsolid=solid0\\n# Generating a workplane for sketch 1\\nwp_sketch1 = cq.Workplane(cq.Plane(cq.Vector(0.7109375, 0.0703125, 0.0), cq.Vector(1.0, 0.0, 0.0), cq.Vector(0.0, 0.0, 1.0)))\\nloop1=wp_sketch1.moveTo(0.0375, 0.0).lineTo(0.0375, 0.046875).lineTo(0.0, 0.046875).lineTo(0.0, 0.0).close()\\nsolid1=wp_sketch1.add(loop1).extrude(0.0234375)\\nsolid=solid.union(solid1)\\n# Generating a workplane for sketch 2\\nwp_sketch2 = cq.Workplane(cq.Plane(cq.Vector(0.0, 0.0, 0.0), cq.Vector(1.0, 0.0, 0.0), cq.Vector(0.0, 0.0, 1.0)))\\nloop2=wp_sketch2.moveTo(0.7109375, 0.0).lineTo(0.7109375, 0.07483552631578948).lineTo(0.7109375, 0.11225328947368421).lineTo(0.7109375, 0.2394736842105263).lineTo(0.7109375, 0.284375).lineTo(0.7109375, 0.3592105263157895).lineTo(0.0, 0.3592105263157895).lineTo(0.0, 0.0).close()\\nsolid2=wp_sketch2.add(loop2).extrude(0.0234375)\\nsolid=solid.union(solid2)\\n', 'test_12': 'import cadquery as cq\\n# Generating a workplane for sketch 0\\nwp_sketch0 = cq.Workplane(cq.Plane(cq.Vector(-0.75, 0.0, 0.0), cq.Vector(1.0, 0.0, 0.0), cq.Vector(0.0, 0.0, 1.0)))\\nloop0=wp_sketch0.moveTo(0.7578947368421053, 0.0).circle(0.7421052631578947)\\nloop1=wp_sketch0.moveTo(0.7578947368421053, 0.0).circle(0.6947368421052632)\\nsolid0=wp_sketch0.add(loop0).add(loop1).extrude(0.0234375, both=True)\\nsolid=solid0\\n', 'test_13': 'import cadquery as cq\\n# Generating a workplane for sketch 0\\nwp_sketch0 = cq.Workplane(cq.Plane(cq.Vector(-0.75, 0.0, 0.09375), cq.Vector(1.0, 6.123233995736766e-17, -6.123233995736766e-17), cq.Vector(6.123233995736766e-17, -1.0, 6.123233995736766e-17)))\\nloop0=wp_sketch0.moveTo(0.6434210526315789, 0.0).circle(0.6300164473684211)\\nsolid0=wp_sketch0.add(loop0).extrude(0.078125)\\nsolid=solid0\\n'}\n"
     ]
    },
    {
     "name": "stderr",
     "output_type": "stream",
     "text": [
      "\n"
     ]
    }
   ],
   "source": [
    "from tqdm import tqdm\n",
    "\n",
    "model_new.eval()\n",
    "generated_codes = {}\n",
    "ground_truth_codes = {}\n",
    "\n",
    "for i, batch in tqdm(enumerate(test_loader), total=len(test_loader), desc=\"Evaluating\"):\n",
    "    image_features = batch[\"image_features\"].to(device)\n",
    "    input_ids = batch[\"input_ids\"].to(device)\n",
    "    attention_mask = batch[\"attention_mask\"].to(device)\n",
    "    gt_codes = batch[\"cadquery\"]\n",
    "\n",
    "    with torch.no_grad():\n",
    "        img_embeds = model_new.img_proj(image_features).unsqueeze(1)\n",
    "        max_len = 256\n",
    "        generated = img_embeds\n",
    "\n",
    "        generated_ids = torch.full(\n",
    "            (image_features.size(0), 1),\n",
    "            tokenizer.bos_token_id if tokenizer.bos_token_id is not None else tokenizer.eos_token_id,\n",
    "            dtype=torch.long,\n",
    "            device=device,\n",
    "        )\n",
    "\n",
    "        for _ in range(max_len):\n",
    "            inputs_embeds = torch.cat([img_embeds, model.lm.transformer.wte(generated_ids)[:, :-1, :]], dim=1)\n",
    "            outputs = model.lm(inputs_embeds=inputs_embeds)\n",
    "            next_token_logits = outputs.logits[:, -1, :]\n",
    "            next_token_id = torch.argmax(next_token_logits, dim=-1, keepdim=True)\n",
    "            generated_ids = torch.cat([generated_ids, next_token_id], dim=1)\n",
    "            if all(t.item() == tokenizer.eos_token_id for t in next_token_id):\n",
    "                break\n",
    "\n",
    "    for idx in range(image_features.size(0)):\n",
    "        gen_code = tokenizer.decode(generated_ids[idx].cpu().numpy(), skip_special_tokens=True)\n",
    "        generated_codes[f\"test_{i*image_features.size(0)+idx}\"] = gen_code\n",
    "        ground_truth_codes[f\"test_{i*image_features.size(0)+idx}\"] = gt_codes[idx]\n",
    "        print(\"The generated CADquery :\",generated_codes)\n",
    "        print(\"The ground truths: \", ground_truth_codes)"
   ]
  },
  {
   "cell_type": "code",
   "execution_count": 42,
   "id": "99deb638",
   "metadata": {},
   "outputs": [
    {
     "name": "stdout",
     "output_type": "stream",
     "text": [
      "Valid Syntax Rate on test set: 0.0\n"
     ]
    },
    {
     "ename": "ValueError",
     "evalue": "Error executing script unknown: invalid syntax (<string>, line 1)",
     "output_type": "error",
     "traceback": [
      "\u001b[31m---------------------------------------------------------------------------\u001b[39m",
      "\u001b[31mSyntaxError\u001b[39m                               Traceback (most recent call last)",
      "\u001b[36mFile \u001b[39m\u001b[32md:\\第一份工作\\mecagent\\mecagent-technical-test\\metrics\\best_iou.py:27\u001b[39m, in \u001b[36m_load_solid_from_code\u001b[39m\u001b[34m(code, script_id)\u001b[39m\n\u001b[32m     26\u001b[39m \u001b[38;5;28;01mtry\u001b[39;00m:\n\u001b[32m---> \u001b[39m\u001b[32m27\u001b[39m     exec(cleaned_code, ns)\n\u001b[32m     28\u001b[39m \u001b[38;5;28;01mexcept\u001b[39;00m \u001b[38;5;167;01mException\u001b[39;00m \u001b[38;5;28;01mas\u001b[39;00m e:\n",
      "\u001b[31mSyntaxError\u001b[39m: invalid syntax (<string>, line 1)",
      "\nDuring handling of the above exception, another exception occurred:\n",
      "\u001b[31mValueError\u001b[39m                                Traceback (most recent call last)",
      "\u001b[36mCell\u001b[39m\u001b[36m \u001b[39m\u001b[32mIn[42]\u001b[39m\u001b[32m, line 8\u001b[39m\n\u001b[32m      6\u001b[39m     gt_code = ground_truth_codes[key]\n\u001b[32m      7\u001b[39m     gen_code = generated_codes[key]\n\u001b[32m----> \u001b[39m\u001b[32m8\u001b[39m     iou = \u001b[43mget_iou_best\u001b[49m\u001b[43m(\u001b[49m\u001b[43mgt_code\u001b[49m\u001b[43m,\u001b[49m\u001b[43m \u001b[49m\u001b[43mgen_code\u001b[49m\u001b[43m)\u001b[49m\n\u001b[32m      9\u001b[39m     iou_scores.append(iou)\n\u001b[32m     11\u001b[39m mean_iou = \u001b[38;5;28msum\u001b[39m(iou_scores) / \u001b[38;5;28mlen\u001b[39m(iou_scores) \u001b[38;5;28;01mif\u001b[39;00m iou_scores \u001b[38;5;28;01melse\u001b[39;00m \u001b[32m0.0\u001b[39m\n",
      "\u001b[36mFile \u001b[39m\u001b[32md:\\第一份工作\\mecagent\\mecagent-technical-test\\metrics\\best_iou.py:301\u001b[39m, in \u001b[36mget_iou_best\u001b[39m\u001b[34m(code1, code2)\u001b[39m\n\u001b[32m    299\u001b[39m \u001b[38;5;28;01mdef\u001b[39;00m\u001b[38;5;250m \u001b[39m\u001b[34mget_iou_best\u001b[39m(code1: \u001b[38;5;28mstr\u001b[39m, code2: \u001b[38;5;28mstr\u001b[39m):\n\u001b[32m    300\u001b[39m     solid1 = _load_solid_from_code(code1)\n\u001b[32m--> \u001b[39m\u001b[32m301\u001b[39m     solid2 = \u001b[43m_load_solid_from_code\u001b[49m\u001b[43m(\u001b[49m\u001b[43mcode2\u001b[49m\u001b[43m)\u001b[49m\n\u001b[32m    302\u001b[39m     mesh1 = _normalized_mesh(solid1)\n\u001b[32m    303\u001b[39m     mesh2 = _normalized_mesh(solid2)\n",
      "\u001b[36mFile \u001b[39m\u001b[32md:\\第一份工作\\mecagent\\mecagent-technical-test\\metrics\\best_iou.py:29\u001b[39m, in \u001b[36m_load_solid_from_code\u001b[39m\u001b[34m(code, script_id)\u001b[39m\n\u001b[32m     27\u001b[39m     exec(cleaned_code, ns)\n\u001b[32m     28\u001b[39m \u001b[38;5;28;01mexcept\u001b[39;00m \u001b[38;5;167;01mException\u001b[39;00m \u001b[38;5;28;01mas\u001b[39;00m e:\n\u001b[32m---> \u001b[39m\u001b[32m29\u001b[39m     \u001b[38;5;28;01mraise\u001b[39;00m \u001b[38;5;167;01mValueError\u001b[39;00m(\u001b[33mf\u001b[39m\u001b[33m\"\u001b[39m\u001b[33mError executing script \u001b[39m\u001b[38;5;132;01m{\u001b[39;00mscript_id\u001b[38;5;132;01m}\u001b[39;00m\u001b[33m: \u001b[39m\u001b[38;5;132;01m{\u001b[39;00me\u001b[38;5;132;01m}\u001b[39;00m\u001b[33m\"\u001b[39m)\n\u001b[32m     31\u001b[39m \u001b[38;5;66;03m# Find any CadQuery objects in the namespace\u001b[39;00m\n\u001b[32m     32\u001b[39m cadquery_objects = []\n",
      "\u001b[31mValueError\u001b[39m: Error executing script unknown: invalid syntax (<string>, line 1)"
     ]
    }
   ],
   "source": [
    "vsr = evaluate_syntax_rate_simple(generated_codes)\n",
    "print(f\"Valid Syntax Rate on test set: {vsr}\")\n",
    "\n",
    "iou_scores = []\n",
    "for key in generated_codes.keys():\n",
    "    gt_code = ground_truth_codes[key]\n",
    "    gen_code = generated_codes[key]\n",
    "    iou = get_iou_best(gt_code, gen_code)\n",
    "    iou_scores.append(iou)\n",
    "\n",
    "mean_iou = sum(iou_scores) / len(iou_scores) if iou_scores else 0.0\n",
    "print(f\"Mean IoU on test set: {mean_iou}\")"
   ]
  },
  {
   "cell_type": "code",
   "execution_count": null,
   "id": "1dca3155",
   "metadata": {},
   "outputs": [],
   "source": []
  }
 ],
 "metadata": {
  "kernelspec": {
   "display_name": ".venv",
   "language": "python",
   "name": "python3"
  },
  "language_info": {
   "codemirror_mode": {
    "name": "ipython",
    "version": 3
   },
   "file_extension": ".py",
   "mimetype": "text/x-python",
   "name": "python",
   "nbconvert_exporter": "python",
   "pygments_lexer": "ipython3",
   "version": "3.11.5"
  }
 },
 "nbformat": 4,
 "nbformat_minor": 5
}
